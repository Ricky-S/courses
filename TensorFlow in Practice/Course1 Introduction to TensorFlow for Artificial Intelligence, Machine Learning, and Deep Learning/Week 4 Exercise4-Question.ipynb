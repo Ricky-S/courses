{
 "cells": [
  {
   "cell_type": "markdown",
   "metadata": {
    "colab_type": "text",
    "id": "UncprnB0ymAE"
   },
   "source": [
    "Below is code with a link to a happy or sad dataset which contains 80 images, 40 happy and 40 sad. \n",
    "Create a convolutional neural network that trains to 100% accuracy on these images,  which cancels training upon hitting training accuracy of >.999\n",
    "\n",
    "Hint -- it will work best with 3 convolutional layers."
   ]
  },
  {
   "cell_type": "code",
   "execution_count": 1,
   "metadata": {},
   "outputs": [],
   "source": [
    "import tensorflow as tf\n",
    "import os\n",
    "import zipfile\n",
    "from os import path, getcwd, chdir\n",
    "\n",
    "# DO NOT CHANGE THE LINE BELOW. If you are developing in a local\n",
    "# environment, then grab happy-or-sad.zip from the Coursera Jupyter Notebook\n",
    "# and place it inside a local folder and edit the path to that location\n",
    "path = f\"{getcwd()}/../tmp2/happy-or-sad.zip\"\n",
    "\n",
    "zip_ref = zipfile.ZipFile(path, 'r')\n",
    "zip_ref.extractall(\"/tmp/h-or-s\")\n",
    "zip_ref.close()"
   ]
  },
  {
   "cell_type": "code",
   "execution_count": 46,
   "metadata": {},
   "outputs": [],
   "source": [
    "# GRADED FUNCTION: train_happy_sad_model\n",
    "def train_happy_sad_model():\n",
    "    # Please write your code only where you are indicated.\n",
    "    # please do not remove # model fitting inline comments.\n",
    "\n",
    "    DESIRED_ACCURACY = 0.999\n",
    "\n",
    "    class myCallback(tf.keras.callbacks.Callback):\n",
    "        def on_epoch_end(self, epoch, logs={}):\n",
    "            print('\\n',logs)\n",
    "            if(logs.get('acc') > DESIRED_ACCURACY):\n",
    "                print('\\nAcc is 0.999')\n",
    "                self.model.stop_training = True\n",
    "            \n",
    "         # Your Code\n",
    "\n",
    "    callbacks = myCallback()\n",
    "    \n",
    "    # This Code Block should Define and Compile the Model. Please assume the images are 150 X 150 in your implementation.\n",
    "    model = tf.keras.models.Sequential([\n",
    "        # Your Code Here\n",
    "        tf.keras.layers.Conv2D(32,(3,3), activation = 'relu', input_shape = (150,150,3)),\n",
    "        tf.keras.layers.MaxPooling2D(2, 2),\n",
    "        tf.keras.layers.Conv2D(64,(3,3), activation = 'relu'),\n",
    "        tf.keras.layers.MaxPooling2D(2, 2),\n",
    "        tf.keras.layers.Conv2D(128,(3,3), activation = 'relu'),\n",
    "        tf.keras.layers.MaxPooling2D(2, 2),\n",
    "        tf.keras.layers.Flatten(),\n",
    "        tf.keras.layers.Dense(128, activation = 'relu'),\n",
    "        tf.keras.layers.Dense(1, activation = 'sigmoid'),\n",
    "    ])\n",
    "\n",
    "    from tensorflow.keras.optimizers import RMSprop\n",
    "    \n",
    "    # Your Code Here #)\n",
    "    model.compile(loss = 'binary_crossentropy', optimizer = RMSprop(lr = 0.001), metrics = ['acc'])\n",
    "    \n",
    "        \n",
    "\n",
    "    # This code block should create an instance of an ImageDataGenerator called train_datagen \n",
    "    # And a train_generator by calling train_datagen.flow_from_directory\n",
    "\n",
    "    from tensorflow.keras.preprocessing.image import ImageDataGenerator\n",
    "    \n",
    "    # Your Code Here\n",
    "    train_datagen = ImageDataGenerator(rescale = 1./255)\n",
    "\n",
    "\n",
    "    # Please use a target_size of 150 X 150.\n",
    "    # it's not easy to find the correct path.\n",
    "    train_generator = train_datagen.flow_from_directory(\n",
    "        '/tmp/h-or-s',\n",
    "        target_size = (150, 150),\n",
    "        batch_size = 4,\n",
    "        class_mode = 'binary')\n",
    "        # Your Code Here)\n",
    "    # Expected output: 'Found 80 images belonging to 2 classes'\n",
    "\n",
    "    # This code block should call model.fit_generator and train for\n",
    "    # a number of epochs.\n",
    "    # model fitting\n",
    "    ## I tried batch_size = 80 and steps_per_epoch = 1, not work well\n",
    "    ## I tried batch_size = 40 and steps_per_epoch = 2, not work well\n",
    "    history = model.fit_generator(\n",
    "        train_generator,\n",
    "        steps_per_epoch = 20,\n",
    "        epochs = 20,\n",
    "        callbacks = [callbacks]\n",
    "    )\n",
    "          # Your Code Here)\n",
    "    # model fitting\n",
    "    return history.history['acc'][-1]"
   ]
  },
  {
   "cell_type": "code",
   "execution_count": null,
   "metadata": {},
   "outputs": [],
   "source": []
  },
  {
   "cell_type": "code",
   "execution_count": 47,
   "metadata": {},
   "outputs": [
    {
     "name": "stdout",
     "output_type": "stream",
     "text": [
      "Found 80 images belonging to 2 classes.\n",
      "Epoch 1/20\n",
      "19/20 [===========================>..] - ETA: 0s - loss: 1.4866 - acc: 0.5658\n",
      " {'loss': 1.4358144491910934, 'acc': 0.5875}\n",
      "20/20 [==============================] - 3s 155ms/step - loss: 1.4358 - acc: 0.5875\n",
      "Epoch 2/20\n",
      "19/20 [===========================>..] - ETA: 0s - loss: 0.3705 - acc: 0.9211\n",
      " {'loss': 0.3593034688849002, 'acc': 0.925}\n",
      "20/20 [==============================] - 1s 35ms/step - loss: 0.3593 - acc: 0.9250\n",
      "Epoch 3/20\n",
      "19/20 [===========================>..] - ETA: 0s - loss: 0.1783 - acc: 0.9342\n",
      " {'loss': 0.16957462400896475, 'acc': 0.9375}\n",
      "20/20 [==============================] - 1s 35ms/step - loss: 0.1696 - acc: 0.9375\n",
      "Epoch 4/20\n",
      "18/20 [==========================>...] - ETA: 0s - loss: 0.2146 - acc: 0.8750\n",
      " {'loss': 0.19408532156376168, 'acc': 0.8875}\n",
      "20/20 [==============================] - 1s 31ms/step - loss: 0.1941 - acc: 0.8875\n",
      "Epoch 5/20\n",
      "19/20 [===========================>..] - ETA: 0s - loss: 0.1099 - acc: 0.9474\n",
      " {'loss': 0.10480770427384414, 'acc': 0.95}\n",
      "20/20 [==============================] - 1s 34ms/step - loss: 0.1048 - acc: 0.9500\n",
      "Epoch 6/20\n",
      "18/20 [==========================>...] - ETA: 0s - loss: 0.0653 - acc: 0.9722\n",
      " {'loss': 0.05917924105997372, 'acc': 0.975}\n",
      "20/20 [==============================] - 1s 30ms/step - loss: 0.0592 - acc: 0.9750\n",
      "Epoch 7/20\n",
      "17/20 [========================>.....] - ETA: 0s - loss: 0.0359 - acc: 0.9853  \n",
      " {'loss': 0.03150835170454229, 'acc': 0.9875}\n",
      "20/20 [==============================] - 1s 34ms/step - loss: 0.0315 - acc: 0.9875\n",
      "Epoch 8/20\n",
      "18/20 [==========================>...] - ETA: 0s - loss: 0.0021 - acc: 1.0000\n",
      " {'loss': 0.001936864271192462, 'acc': 1.0}\n",
      "\n",
      "Acc is 0.999\n",
      "20/20 [==============================] - 1s 31ms/step - loss: 0.0019 - acc: 1.0000\n"
     ]
    },
    {
     "data": {
      "text/plain": [
       "1.0"
      ]
     },
     "execution_count": 47,
     "metadata": {},
     "output_type": "execute_result"
    }
   ],
   "source": [
    "# The Expected output: \"Reached 99.9% accuracy so cancelling training!\"\"\n",
    "train_happy_sad_model()"
   ]
  },
  {
   "cell_type": "code",
   "execution_count": 4,
   "metadata": {},
   "outputs": [],
   "source": [
    "# Now click the 'Submit Assignment' button above.\n",
    "# Once that is complete, please run the following two cells to save your work and close the notebook"
   ]
  },
  {
   "cell_type": "code",
   "execution_count": null,
   "metadata": {},
   "outputs": [],
   "source": [
    "# // %%javascript\n",
    "# // <!-- Save the notebook -->\n",
    "# // IPython.notebook.save_checkpoint();"
   ]
  },
  {
   "cell_type": "code",
   "execution_count": null,
   "metadata": {},
   "outputs": [],
   "source": [
    "# // %%javascript\n",
    "# // IPython.notebook.session.delete();\n",
    "# // window.onbeforeunload = null\n",
    "# // setTimeout(function() { window.close(); }, 1000);"
   ]
  }
 ],
 "metadata": {
  "coursera": {
   "course_slug": "introduction-tensorflow",
   "graded_item_id": "1kAlw",
   "launcher_item_id": "PNLYD"
  },
  "kernelspec": {
   "display_name": "Python 3",
   "language": "python",
   "name": "python3"
  },
  "language_info": {
   "codemirror_mode": {
    "name": "ipython",
    "version": 3
   },
   "file_extension": ".py",
   "mimetype": "text/x-python",
   "name": "python",
   "nbconvert_exporter": "python",
   "pygments_lexer": "ipython3",
   "version": "3.6.8"
  }
 },
 "nbformat": 4,
 "nbformat_minor": 1
}
