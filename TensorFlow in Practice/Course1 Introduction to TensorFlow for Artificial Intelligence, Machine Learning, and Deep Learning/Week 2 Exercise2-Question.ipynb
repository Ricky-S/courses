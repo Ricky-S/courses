{
 "cells": [
  {
   "cell_type": "markdown",
   "metadata": {
    "colab_type": "text",
    "id": "tOoyQ70H00_s"
   },
   "source": [
    "## Exercise 2\n",
    "In the course you learned how to do classificaiton using Fashion MNIST, a data set containing items of clothing. There's another, similar dataset called MNIST which has items of handwriting -- the digits 0 through 9.\n",
    "\n",
    "Write an MNIST classifier that trains to 99% accuracy or above, and does it without a fixed number of epochs -- i.e. you should stop training once you reach that level of accuracy.\n",
    "\n",
    "Some notes:\n",
    "1. It should succeed in less than 10 epochs, so it is okay to change epochs= to 10, but nothing larger\n",
    "2. When it reaches 99% or greater it should print out the string \"Reached 99% accuracy so cancelling training!\"\n",
    "3. If you add any additional variables, make sure you use the same names as the ones used in the class\n",
    "\n",
    "I've started the code for you below -- how would you finish it? "
   ]
  },
  {
   "cell_type": "code",
   "execution_count": 1,
   "metadata": {},
   "outputs": [],
   "source": [
    "import tensorflow as tf\n",
    "from os import path, getcwd, chdir\n",
    "\n",
    "# DO NOT CHANGE THE LINE BELOW. If you are developing in a local\n",
    "# environment, then grab mnist.npz from the Coursera Jupyter Notebook\n",
    "# and place it inside a local folder and edit the path to that location\n",
    "path = f\"{getcwd()}/../tmp2/mnist.npz\""
   ]
  },
  {
   "cell_type": "code",
   "execution_count": 28,
   "metadata": {
    "colab": {},
    "colab_type": "code",
    "id": "9rvXQGAA0ssC"
   },
   "outputs": [],
   "source": [
    "# GRADED FUNCTION: train_mnist\n",
    "def train_mnist():\n",
    "    # Please write your code only where you are indicated.\n",
    "    # please do not remove # model fitting inline comments.\n",
    "\n",
    "    # YOUR CODE SHOULD START HERE\n",
    "    class mycallback1(tf.keras.callbacks.Callback):\n",
    "        def on_epoch_end(self, epoch, logs = {}):\n",
    "            print('\\nprint log',logs)\n",
    "            # in course use 'accuracy', logs contain 'loss' and 'acc'(which means accuracy)\n",
    "            if(logs.get('acc') > 0.99):\n",
    "                print('\\nReached 99% accuracy so cancelling training!')\n",
    "                self.model.stop_training = True\n",
    "    # YOUR CODE SHOULD END HERE\n",
    "\n",
    "    mnist = tf.keras.datasets.mnist\n",
    "\n",
    "    (x_train, y_train),(x_test, y_test) = mnist.load_data(path=path)\n",
    "    # YOUR CODE SHOULD START HERE\n",
    "    callbacks1 = mycallback1()\n",
    "    x_train = x_train/255.0\n",
    "    x_test = x_test / 255.0\n",
    "    # YOUR CODE SHOULD END HERE\n",
    "    model = tf.keras.models.Sequential([\n",
    "        # YOUR CODE SHOULD START HERE\n",
    "        tf.keras.layers.Flatten(),\n",
    "        tf.keras.layers.Dense(128,activation = tf.nn.relu),\n",
    "        tf.keras.layers.Dense(10,activation = tf.nn.softmax)\n",
    "        # YOUR CODE SHOULD END HERE\n",
    "    ])\n",
    "\n",
    "    model.compile(optimizer='adam',\n",
    "                  loss='sparse_categorical_crossentropy',\n",
    "                  metrics=['accuracy'])\n",
    "    \n",
    "    # model fitting\n",
    "    history = model.fit(# YOUR CODE SHOULD START HERE\n",
    "                        x_train,y_train,epochs = 10, callbacks = [callbacks1]\n",
    "              # YOUR CODE SHOULD END HERE\n",
    "    )\n",
    "    # model fitting\n",
    "    return history.epoch, history.history['acc'][-1]"
   ]
  },
  {
   "cell_type": "code",
   "execution_count": 29,
   "metadata": {
    "colab": {},
    "colab_type": "code",
    "id": "9rvXQGAA0ssC"
   },
   "outputs": [
    {
     "name": "stdout",
     "output_type": "stream",
     "text": [
      "Epoch 1/10\n",
      "59936/60000 [============================>.] - ETA: 0s - loss: 0.2542 - acc: 0.9275\n",
      "print log {'loss': 0.25406525995035967, 'acc': 0.92755}\n",
      "60000/60000 [==============================] - 15s 251us/sample - loss: 0.2541 - acc: 0.9276\n",
      "Epoch 2/10\n",
      "59808/60000 [============================>.] - ETA: 0s - loss: 0.1120 - acc: 0.9671\n",
      "print log {'loss': 0.11222583889688055, 'acc': 0.9671}\n",
      "60000/60000 [==============================] - 15s 248us/sample - loss: 0.1122 - acc: 0.9671\n",
      "Epoch 3/10\n",
      "59648/60000 [============================>.] - ETA: 0s - loss: 0.0767 - acc: 0.9764\n",
      "print log {'loss': 0.07693841944734256, 'acc': 0.9763833}\n",
      "60000/60000 [==============================] - 15s 250us/sample - loss: 0.0769 - acc: 0.9764\n",
      "Epoch 4/10\n",
      "59872/60000 [============================>.] - ETA: 0s - loss: 0.0585 - acc: 0.9823\n",
      "print log {'loss': 0.05842852946712325, 'acc': 0.98225}\n",
      "60000/60000 [==============================] - 15s 247us/sample - loss: 0.0584 - acc: 0.9822\n",
      "Epoch 5/10\n",
      "59648/60000 [============================>.] - ETA: 0s - loss: 0.0446 - acc: 0.9865\n",
      "print log {'loss': 0.0446606755948936, 'acc': 0.98646665}\n",
      "60000/60000 [==============================] - 15s 247us/sample - loss: 0.0447 - acc: 0.9865\n",
      "Epoch 6/10\n",
      "59872/60000 [============================>.] - ETA: 0s - loss: 0.0362 - acc: 0.9887\n",
      "print log {'loss': 0.036148059116334966, 'acc': 0.98871666}\n",
      "60000/60000 [==============================] - 15s 250us/sample - loss: 0.0361 - acc: 0.9887\n",
      "Epoch 7/10\n",
      "59936/60000 [============================>.] - ETA: 0s - loss: 0.0282 - acc: 0.9911\n",
      "print log {'loss': 0.02816626333797661, 'acc': 0.99111664}\n",
      "\n",
      "Reached 99% accuracy so cancelling training!\n",
      "60000/60000 [==============================] - 15s 247us/sample - loss: 0.0282 - acc: 0.9911\n"
     ]
    },
    {
     "data": {
      "text/plain": [
       "([0, 1, 2, 3, 4, 5, 6], 0.99111664)"
      ]
     },
     "execution_count": 29,
     "metadata": {},
     "output_type": "execute_result"
    }
   ],
   "source": [
    "train_mnist()"
   ]
  },
  {
   "cell_type": "code",
   "execution_count": 4,
   "metadata": {},
   "outputs": [],
   "source": [
    "# Now click the 'Submit Assignment' button above.\n",
    "# Once that is complete, please run the following two cells to save your work and close the notebook"
   ]
  },
  {
   "cell_type": "code",
   "execution_count": null,
   "metadata": {},
   "outputs": [],
   "source": [
    "# // %%javascript\n",
    "# // <!-- Save the notebook -->\n",
    "# // IPython.notebook.save_checkpoint();"
   ]
  },
  {
   "cell_type": "code",
   "execution_count": null,
   "metadata": {},
   "outputs": [],
   "source": [
    "# // %%javascript\n",
    "# // IPython.notebook.session.delete();\n",
    "# // window.onbeforeunload = null\n",
    "# // setTimeout(function() { window.close(); }, 1000);"
   ]
  }
 ],
 "metadata": {
  "coursera": {
   "course_slug": "introduction-tensorflow",
   "graded_item_id": "d6dew",
   "launcher_item_id": "FExZ4"
  },
  "kernelspec": {
   "display_name": "Python 3",
   "language": "python",
   "name": "python3"
  },
  "language_info": {
   "codemirror_mode": {
    "name": "ipython",
    "version": 3
   },
   "file_extension": ".py",
   "mimetype": "text/x-python",
   "name": "python",
   "nbconvert_exporter": "python",
   "pygments_lexer": "ipython3",
   "version": "3.6.8"
  }
 },
 "nbformat": 4,
 "nbformat_minor": 1
}
