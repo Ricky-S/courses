{
 "cells": [
  {
   "cell_type": "markdown",
   "metadata": {
    "colab_type": "text",
    "id": "iQjHqsmTAVLU"
   },
   "source": [
    "## Exercise 3\n",
    "In the videos you looked at how you would improve Fashion MNIST using Convolutions. For your exercise see if you can improve MNIST to 99.8% accuracy or more using only a single convolutional layer and a single MaxPooling 2D. You should stop training once the accuracy goes above this amount. It should happen in less than 20 epochs, so it's ok to hard code the number of epochs for training, but your training must end once it hits the above metric. If it doesn't, then you'll need to redesign your layers.\n",
    "\n",
    "I've started the code for you -- you need to finish it!\n",
    "\n",
    "When 99.8% accuracy has been hit, you should print out the string \"Reached 99.8% accuracy so cancelling training!\"\n"
   ]
  },
  {
   "cell_type": "code",
   "execution_count": 1,
   "metadata": {},
   "outputs": [],
   "source": [
    "import tensorflow as tf\n",
    "from os import path, getcwd, chdir\n",
    "\n",
    "# DO NOT CHANGE THE LINE BELOW. If you are developing in a local\n",
    "# environment, then grab mnist.npz from the Coursera Jupyter Notebook\n",
    "# and place it inside a local folder and edit the path to that location\n",
    "path = f\"{getcwd()}/../tmp2/mnist.npz\""
   ]
  },
  {
   "cell_type": "code",
   "execution_count": 2,
   "metadata": {},
   "outputs": [],
   "source": [
    "config = tf.ConfigProto()\n",
    "# config.gpu_options.allow_growth = True\n",
    "sess = tf.Session(config=config)"
   ]
  },
  {
   "cell_type": "code",
   "execution_count": 16,
   "metadata": {},
   "outputs": [],
   "source": [
    "# GRADED FUNCTION: train_mnist_conv\n",
    "def train_mnist_conv():\n",
    "    # Please write your code only where you are indicated.\n",
    "    # please do not remove model fitting inline comments.\n",
    "\n",
    "    # YOUR CODE STARTS HERE\n",
    "    class mycallback_new(tf.keras.callbacks.Callback):\n",
    "        # name of \"on_epoch_end\" can't be changed!!!\n",
    "        # https://www.tensorflow.org/api_docs/python/tf/keras/callbacks/Callback\n",
    "        def on_epoch_end(self,epoch,logs = {}):\n",
    "            # remember there is 'acc'(means 'accuracy') and 'loss'\n",
    "            print('\\n',logs)\n",
    "            if(logs.get('acc') > 0.998):\n",
    "                print(\"Reached 99.8% accuracy so cancelling training!\")\n",
    "                self.model.stop_training = True\n",
    "    callbacks_mnist = mycallback_new()    \n",
    "    # YOUR CODE ENDS HERE\n",
    "\n",
    "    mnist = tf.keras.datasets.mnist\n",
    "    (training_images, training_labels), (test_images, test_labels) = mnist.load_data(path=path)\n",
    "    # YOUR CODE STARTS HERE\n",
    "    training_images = training_images.reshape(60000,28,28,1)\n",
    "    test_images = test_images.reshape(10000,28,28,1)\n",
    "    training_images = training_images / 255.0\n",
    "    test_images = test_images / 255.0\n",
    "    # YOUR CODE ENDS HERE\n",
    "\n",
    "    model = tf.keras.models.Sequential([\n",
    "            # YOUR CODE STARTS HERE\n",
    "            tf.keras.layers.Conv2D(64, (3, 3), activation = 'relu', input_shape = (28,28,1)),\n",
    "            tf.keras.layers.MaxPooling2D(2, 2),\n",
    "#             tf.keras.layers.Conv2D(32, (3, 3), activation = 'relu'),\n",
    "#             tf.keras.layers.MaxPooling2D(2, 2),\n",
    "            tf.keras.layers.Flatten(),\n",
    "            tf.keras.layers.Dense(128, activation = 'relu'),\n",
    "            tf.keras.layers.Dense(10, activation = 'softmax')\n",
    "            # YOUR CODE ENDS HERE\n",
    "    ])\n",
    "    model.summary()\n",
    "    model.compile(optimizer='adam', loss='sparse_categorical_crossentropy', metrics=['accuracy'])\n",
    "    # model fitting\n",
    "    history = model.fit(\n",
    "        # YOUR CODE STARTS HERE\n",
    "        training_images, training_labels, epochs = 20, callbacks = [callbacks_mnist]\n",
    "        # YOUR CODE ENDS HERE\n",
    "    )\n",
    "    # model fitting\n",
    "    return history.epoch, history.history['acc'][-1]\n",
    "\n"
   ]
  },
  {
   "cell_type": "code",
   "execution_count": 17,
   "metadata": {},
   "outputs": [
    {
     "name": "stdout",
     "output_type": "stream",
     "text": [
      "Model: \"sequential_6\"\n",
      "_________________________________________________________________\n",
      "Layer (type)                 Output Shape              Param #   \n",
      "=================================================================\n",
      "conv2d_6 (Conv2D)            (None, 26, 26, 64)        640       \n",
      "_________________________________________________________________\n",
      "max_pooling2d_6 (MaxPooling2 (None, 13, 13, 64)        0         \n",
      "_________________________________________________________________\n",
      "flatten_6 (Flatten)          (None, 10816)             0         \n",
      "_________________________________________________________________\n",
      "dense_12 (Dense)             (None, 128)               1384576   \n",
      "_________________________________________________________________\n",
      "dense_13 (Dense)             (None, 10)                1290      \n",
      "=================================================================\n",
      "Total params: 1,386,506\n",
      "Trainable params: 1,386,506\n",
      "Non-trainable params: 0\n",
      "_________________________________________________________________\n",
      "Epoch 1/20\n",
      "59680/60000 [============================>.] - ETA: 0s - loss: 0.1380 - acc: 0.9589\n",
      " {'loss': 0.13748941118599226, 'acc': 0.9590667}\n",
      "60000/60000 [==============================] - 17s 288us/sample - loss: 0.1375 - acc: 0.9591\n",
      "Epoch 2/20\n",
      "59712/60000 [============================>.] - ETA: 0s - loss: 0.0465 - acc: 0.9861\n",
      " {'loss': 0.04642811297546141, 'acc': 0.98611665}\n",
      "60000/60000 [==============================] - 17s 284us/sample - loss: 0.0464 - acc: 0.9861\n",
      "Epoch 3/20\n",
      "59744/60000 [============================>.] - ETA: 0s - loss: 0.0285 - acc: 0.9912\n",
      " {'loss': 0.028592943936392355, 'acc': 0.99118334}\n",
      "60000/60000 [==============================] - 17s 285us/sample - loss: 0.0286 - acc: 0.9912\n",
      "Epoch 4/20\n",
      "59872/60000 [============================>.] - ETA: 0s - loss: 0.0173 - acc: 0.9947\n",
      " {'loss': 0.017282005514949562, 'acc': 0.99471664}\n",
      "60000/60000 [==============================] - 17s 283us/sample - loss: 0.0173 - acc: 0.9947\n",
      "Epoch 5/20\n",
      "59968/60000 [============================>.] - ETA: 0s - loss: 0.0119 - acc: 0.9961\n",
      " {'loss': 0.01185058495615473, 'acc': 0.99611664}\n",
      "60000/60000 [==============================] - 18s 295us/sample - loss: 0.0119 - acc: 0.9961\n",
      "Epoch 6/20\n",
      "59808/60000 [============================>.] - ETA: 0s - loss: 0.0086 - acc: 0.9970\n",
      " {'loss': 0.008584334110071116, 'acc': 0.99698335}\n",
      "60000/60000 [==============================] - 18s 299us/sample - loss: 0.0086 - acc: 0.9970\n",
      "Epoch 7/20\n",
      "59904/60000 [============================>.] - ETA: 0s - loss: 0.0064 - acc: 0.9978\n",
      " {'loss': 0.006348457112854885, 'acc': 0.9978333}\n",
      "60000/60000 [==============================] - 17s 286us/sample - loss: 0.0063 - acc: 0.9978\n",
      "Epoch 8/20\n",
      "59680/60000 [============================>.] - ETA: 0s - loss: 0.0062 - acc: 0.9978\n",
      " {'loss': 0.0062055407258624655, 'acc': 0.9978333}\n",
      "60000/60000 [==============================] - 17s 284us/sample - loss: 0.0062 - acc: 0.9978\n",
      "Epoch 9/20\n",
      "59808/60000 [============================>.] - ETA: 0s - loss: 0.0045 - acc: 0.9984\n",
      " {'loss': 0.004487308577250011, 'acc': 0.99843335}\n",
      "Reached 99.8% accuracy so cancelling training!\n",
      "60000/60000 [==============================] - 17s 282us/sample - loss: 0.0045 - acc: 0.9984\n"
     ]
    }
   ],
   "source": [
    "_, _ = train_mnist_conv()"
   ]
  },
  {
   "cell_type": "code",
   "execution_count": null,
   "metadata": {},
   "outputs": [],
   "source": [
    "# Now click the 'Submit Assignment' button above.\n",
    "# Once that is complete, please run the following two cells to save your work and close the notebook"
   ]
  },
  {
   "cell_type": "code",
   "execution_count": null,
   "metadata": {},
   "outputs": [],
   "source": [
    "# // %%javascript\n",
    "# // <!-- Save the notebook -->\n",
    "# // IPython.notebook.save_checkpoint();"
   ]
  },
  {
   "cell_type": "code",
   "execution_count": null,
   "metadata": {},
   "outputs": [],
   "source": [
    "# // %%javascript\n",
    "# // IPython.notebook.session.delete();\n",
    "# // window.onbeforeunload = null\n",
    "# // setTimeout(function() { window.close(); }, 1000);"
   ]
  }
 ],
 "metadata": {
  "coursera": {
   "course_slug": "introduction-tensorflow",
   "graded_item_id": "ml06H",
   "launcher_item_id": "hQF8A"
  },
  "kernelspec": {
   "display_name": "Python 3",
   "language": "python",
   "name": "python3"
  },
  "language_info": {
   "codemirror_mode": {
    "name": "ipython",
    "version": 3
   },
   "file_extension": ".py",
   "mimetype": "text/x-python",
   "name": "python",
   "nbconvert_exporter": "python",
   "pygments_lexer": "ipython3",
   "version": "3.6.8"
  }
 },
 "nbformat": 4,
 "nbformat_minor": 1
}
