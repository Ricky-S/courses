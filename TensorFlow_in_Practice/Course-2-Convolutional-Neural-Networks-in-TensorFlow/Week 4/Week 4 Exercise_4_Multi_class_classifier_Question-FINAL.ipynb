{
 "cells": [
  {
   "cell_type": "code",
   "execution_count": 1,
   "metadata": {
    "colab": {},
    "colab_type": "code",
    "id": "wYtuKeK0dImp"
   },
   "outputs": [],
   "source": [
    "# ATTENTION: Please do not alter any of the provided code in the exercise. Only add your own code where indicated\n",
    "# ATTENTION: Please do not add or remove any cells in the exercise. The grader will check specific cells based on the cell position.\n",
    "# ATTENTION: Please use the provided epoch values when training.\n",
    "\n",
    "import csv\n",
    "import numpy as np\n",
    "import tensorflow as tf\n",
    "from tensorflow.keras.preprocessing.image import ImageDataGenerator\n",
    "from os import getcwd"
   ]
  },
  {
   "cell_type": "code",
   "execution_count": 2,
   "metadata": {
    "colab": {},
    "colab_type": "code",
    "id": "4kxw-_rmcnVu"
   },
   "outputs": [
    {
     "name": "stdout",
     "output_type": "stream",
     "text": [
      "(27455, 28, 28)\n",
      "(27455,)\n",
      "(7172, 28, 28)\n",
      "(7172,)\n"
     ]
    }
   ],
   "source": [
    "def get_data(filename):\n",
    "  # You will need to write code that will read the file passed\n",
    "  # into this function. The first line contains the column headers\n",
    "  # so you should ignore it\n",
    "  # Each successive line contians 785 comma separated values between 0 and 255\n",
    "  # The first value is the label\n",
    "  # The rest are the pixel values for that picture\n",
    "  # The function will return 2 np.array types. One with all the labels\n",
    "  # One with all the images\n",
    "  #\n",
    "  # Tips: \n",
    "  # If you read a full line (as 'row') then row[0] has the label\n",
    "  # and row[1:785] has the 784 pixel values\n",
    "  # Take a look at np.array_split to turn the 784 pixels into 28x28\n",
    "  # You are reading in strings, but need the values to be floats\n",
    "  # Check out np.array().astype for a conversion\n",
    "    with open(filename) as training_file:\n",
    "      # Your code starts here\n",
    "        listimages = []\n",
    "        #read by line\n",
    "        for i in training_file.readlines():\n",
    "            listimages.append(i)\n",
    "        \n",
    "#         print(len(listimages)) \n",
    "        listimages = listimages[1:] # omit first line\n",
    "#         print(len(listimages)) \n",
    "        images1 = []\n",
    "        labels1 = []\n",
    "        for pixel in listimages:\n",
    "            #print((pixel[2:].split(',')))\n",
    "            lines = pixel.split(',')\n",
    "            # print(lines)\n",
    "            # image data\n",
    "            tempimage = lines[1:]\n",
    "            # omit '/n' of the last string\n",
    "            tempimage[-1] = tempimage[-1][:-1]\n",
    "            # print(tempimage[-1])\n",
    "            # reshape, known every row has 28 data(means 28 columns), auto calculate how many rows by -1\n",
    "            tempimagesarray = np.reshape(list(map(int,tempimage)), (-1, 28))\n",
    "            # print(tempimagesarray)\n",
    "            images1.append(tempimagesarray.astype('float'))\n",
    "            #templabels = np.reshape(list(map(int,lines[0])),(-1))\n",
    "            templabels = np.reshape(list(map(int,lines[0])),(-1))\n",
    "            #labels1.append(templabels.astype('float'))\n",
    "            labels1.append(float(lines[0]))\n",
    "        \n",
    "        images = np.array(images1)\n",
    "        # print(images[0])\n",
    "        labels = np.array(labels1)\n",
    "        # another method for this function\n",
    "#         csv_reader = csv.reader(training_file, delimiter=',')\n",
    "#         first_line = True\n",
    "#         temp_images = []\n",
    "#         temp_labels = []\n",
    "#         for row in csv_reader:\n",
    "#             if first_line:\n",
    "#                 # print(\"Ignoring first line\")\n",
    "#                 first_line = False\n",
    "#             else:\n",
    "#                 temp_labels.append(row[0])\n",
    "#                 image_data = row[1:785]\n",
    "#                 image_data_as_array = np.array_split(image_data, 28)\n",
    "#                 temp_images.append(image_data_as_array)\n",
    "#         images = np.array(temp_images).astype('float')\n",
    "#         labels = np.array(temp_labels).astype('float')\n",
    "#         print(images.shape)\n",
    "#         print(labels.shape)\n",
    "      # Your code ends here\n",
    "    return images, labels\n",
    "\n",
    "path_sign_mnist_train = f\"{getcwd()}/../tmp2/sign_mnist_train.csv\"\n",
    "path_sign_mnist_test = f\"{getcwd()}/../tmp2/sign_mnist_test.csv\"\n",
    "training_images, training_labels = get_data(path_sign_mnist_train)\n",
    "testing_images, testing_labels = get_data(path_sign_mnist_test)\n",
    "\n",
    "# Keep these\n",
    "print(training_images.shape)\n",
    "print(training_labels.shape)\n",
    "print(testing_images.shape)\n",
    "print(testing_labels.shape)\n",
    "# Their output should be:\n",
    "# (27455, 28, 28)\n",
    "# (27455,)\n",
    "# (7172, 28, 28)\n",
    "# (7172,)\n",
    "###########################################################\n",
    "## important to confirm the data and type\n",
    "# print(training_images.dtype)\n",
    "# print(training_images.shape)\n",
    "# print(training_images)\n",
    "# float64\n",
    "# (27455, 28, 28)\n",
    "# [[[107. 118. 127. ... 170. 170. 169.]\n",
    "#   [111. 121. 129. ... 171. 171. 170.]\n",
    "#   [113. 123. 131. ... 171. 171. 171.]\n",
    "#   ...\n",
    "#   [142. 150. 159. ... 202. 201. 200.]\n",
    "#   [142. 151. 160. ... 204. 203. 202.]\n",
    "#   [142. 151. 160. ... 204. 203. 202.]]\n",
    "# print(training_labels.dtype)\n",
    "# print(training_labels.shape)\n",
    "# print(training_labels)\n",
    "# float64\n",
    "# (27455,)\n",
    "# [ 3.  6.  2. ... 18. 17. 23.]"
   ]
  },
  {
   "cell_type": "code",
   "execution_count": 3,
   "metadata": {
    "colab": {},
    "colab_type": "code",
    "id": "awoqRpyZdQkD"
   },
   "outputs": [
    {
     "name": "stdout",
     "output_type": "stream",
     "text": [
      "(27455, 28, 28, 1)\n",
      "(7172, 28, 28, 1)\n"
     ]
    }
   ],
   "source": [
    "# In this section you will have to add another dimension to the data\n",
    "# So, for example, if your array is (10000, 28, 28)\n",
    "# You will need to make it (10000, 28, 28, 1)\n",
    "# Hint: np.expand_dims\n",
    "\n",
    "training_images = np.expand_dims(training_images, axis=-1)# Your Code Here\n",
    "testing_images = np.expand_dims(testing_images, axis=-1)# Your Code Here\n",
    "\n",
    "# Create an ImageDataGenerator and do Image Augmentation\n",
    "train_datagen = ImageDataGenerator(\n",
    "    rescale = 1./255,\n",
    "    rotation_range=40,\n",
    "    width_shift_range=0.2,\n",
    "    height_shift_range=0.2,\n",
    "    shear_range=0.2,\n",
    "    zoom_range=0.2,\n",
    "    horizontal_flip=True,\n",
    "    fill_mode='nearest'\n",
    "    # Your Code Here\n",
    "    )\n",
    "\n",
    "validation_datagen = ImageDataGenerator(\n",
    "    rescale = 1./255\n",
    "    )\n",
    "    # Your Code Here)\n",
    "    \n",
    "# Keep These\n",
    "print(training_images.shape)\n",
    "print(testing_images.shape)\n",
    "    \n",
    "# Their output should be:\n",
    "# (27455, 28, 28, 1)\n",
    "# (7172, 28, 28, 1)"
   ]
  },
  {
   "cell_type": "code",
   "execution_count": 5,
   "metadata": {
    "colab": {},
    "colab_type": "code",
    "id": "Rmb7S32cgRqS"
   },
   "outputs": [
    {
     "name": "stdout",
     "output_type": "stream",
     "text": [
      "Epoch 1/2\n",
      "858/858 [==============================] - 93s 109ms/step - loss: 2.8071 - accuracy: 0.1468 - val_loss: 1.9835 - val_accuracy: 0.3840\n",
      "Epoch 2/2\n",
      "858/858 [==============================] - 93s 109ms/step - loss: 2.1128 - accuracy: 0.3353 - val_loss: 1.4741 - val_accuracy: 0.5077\n"
     ]
    },
    {
     "data": {
      "text/plain": [
       "[178.8404410298949, 0.36349693]"
      ]
     },
     "execution_count": 5,
     "metadata": {},
     "output_type": "execute_result"
    }
   ],
   "source": [
    "# Define the model\n",
    "# Use no more than 2 Conv2D and 2 MaxPooling2D\n",
    "model = tf.keras.models.Sequential([\n",
    "    tf.keras.layers.Conv2D(64, (3,3), activation = 'relu', input_shape = (28,28,1)),\n",
    "    tf.keras.layers.MaxPooling2D(2,2),\n",
    "    tf.keras.layers.Conv2D(64, (3,3), activation = 'relu'),\n",
    "    tf.keras.layers.MaxPooling2D(2,2),\n",
    "    tf.keras.layers.Flatten(),\n",
    "    tf.keras.layers.Dropout(0.2),\n",
    "    tf.keras.layers.Dense(128, activation='relu'),\n",
    "    tf.keras.layers.Dense(25, activation='softmax')\n",
    "    # Your Code Here\n",
    "    ])\n",
    "\n",
    "# Compile Model. \n",
    "# metrics is important, if you type 'matrics', code won't break down ,but you can't get accuracy of history.history\n",
    "model.compile(\n",
    "    loss = 'sparse_categorical_crossentropy', optimizer='Adam', metrics = ['accuracy'])# Your Code Here)\n",
    "\n",
    "# Train the Model\n",
    "history = model.fit_generator(\n",
    "    train_datagen.flow(training_images, training_labels, batch_size=32),\n",
    "    epochs = 2,\n",
    "    #steps_per_epoch = 20,\n",
    "    validation_data  = validation_datagen.flow(testing_images, testing_labels, batch_size=32),\n",
    "    verbose = 1\n",
    ")\n",
    "    # Your Code Here (set 'epochs' = 2))\n",
    "# history = model.fit_generator(train_datagen.flow(training_images, training_labels, batch_size=32),\n",
    "#                               steps_per_epoch=len(training_images) / 32,\n",
    "#                               epochs=1,\n",
    "#                               validation_data=validation_datagen.flow(testing_images, testing_labels, batch_size=32),\n",
    "#                               validation_steps=len(testing_images) / 32)\n",
    "\n",
    "\n",
    "model.evaluate(testing_images, testing_labels, verbose=0)\n",
    "\n",
    "# print(tf.__version__)\n",
    "# print(history.history)\n",
    "# print(history.history.keys())"
   ]
  },
  {
   "cell_type": "code",
   "execution_count": 7,
   "metadata": {
    "colab": {},
    "colab_type": "code",
    "id": "_Q3Zpr46dsij"
   },
   "outputs": [
    {
     "data": {
      "image/png": "[encoded data removed]",
      "text/plain": [
       "<Figure size 432x288 with 1 Axes>"
      ]
     },
     "metadata": {
      "needs_background": "light"
     },
     "output_type": "display_data"
    },
    {
     "data": {
      "image/png": "[encoded data removed]",
      "text/plain": [
       "<Figure size 432x288 with 1 Axes>"
      ]
     },
     "metadata": {
      "needs_background": "light"
     },
     "output_type": "display_data"
    }
   ],
   "source": [
    "# Plot the chart for accuracy and loss on both training and validation\n",
    "%matplotlib inline\n",
    "import matplotlib.pyplot as plt\n",
    "acc = history.history['accuracy']# Your Code Here\n",
    "val_acc = history.history['val_accuracy']# Your Code Here\n",
    "loss = history.history['loss']# Your Code Here\n",
    "val_loss = history.history['val_loss']# Your Code Here\n",
    "\n",
    "epochs = range(len(acc))\n",
    "\n",
    "plt.plot(epochs, acc, 'r', label='Training accuracy')\n",
    "plt.plot(epochs, val_acc, 'b', label='Validation accuracy')\n",
    "plt.title('Training and validation accuracy')\n",
    "plt.legend()\n",
    "plt.figure()\n",
    "\n",
    "plt.plot(epochs, loss, 'r', label='Training Loss')\n",
    "plt.plot(epochs, val_loss, 'b', label='Validation Loss')\n",
    "plt.title('Training and validation loss')\n",
    "plt.legend()\n",
    "\n",
    "plt.show()"
   ]
  },
  {
   "cell_type": "markdown",
   "metadata": {},
   "source": [
    "# Submission Instructions"
   ]
  },
  {
   "cell_type": "code",
   "execution_count": null,
   "metadata": {},
   "outputs": [],
   "source": [
    "# Now click the 'Submit Assignment' button above."
   ]
  },
  {
   "cell_type": "markdown",
   "metadata": {},
   "source": [
    "# When you're done or would like to take a break, please run the two cells below to save your work and close the Notebook. This will free up resources for your fellow learners. "
   ]
  },
  {
   "cell_type": "code",
   "execution_count": null,
   "metadata": {},
   "outputs": [],
   "source": [
    "# // %%javascript\n",
    "# // <!-- Save the notebook -->\n",
    "# // IPython.notebook.save_checkpoint();"
   ]
  },
  {
   "cell_type": "code",
   "execution_count": null,
   "metadata": {},
   "outputs": [],
   "source": [
    "# // %%javascript\n",
    "# // IPython.notebook.session.delete();\n",
    "# // window.onbeforeunload = null\n",
    "# // setTimeout(function() { window.close(); }, 1000);"
   ]
  }
 ],
 "metadata": {
  "colab": {
   "name": "Exercise 8 - Question.ipynb",
   "provenance": []
  },
  "coursera": {
   "course_slug": "convolutional-neural-networks-tensorflow",
   "graded_item_id": "8mIh8",
   "launcher_item_id": "gg95t"
  },
  "kernelspec": {
   "display_name": "Python 3",
   "language": "python",
   "name": "python3"
  },
  "language_info": {
   "codemirror_mode": {
    "name": "ipython",
    "version": 3
   },
   "file_extension": ".py",
   "mimetype": "text/x-python",
   "name": "python",
   "nbconvert_exporter": "python",
   "pygments_lexer": "ipython3",
   "version": "3.6.8"
  }
 },
 "nbformat": 4,
 "nbformat_minor": 1
}
