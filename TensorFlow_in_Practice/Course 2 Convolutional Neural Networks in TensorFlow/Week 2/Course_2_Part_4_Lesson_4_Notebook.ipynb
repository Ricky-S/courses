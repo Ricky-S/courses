{
  "nbformat": 4,
  "nbformat_minor": 0,
  "metadata": {
    "accelerator": "GPU",
    "colab": {
      "name": "Course 2 - Part 4 - Lesson 4 - Notebook.ipynb",
      "provenance": [],
      "collapsed_sections": [],
      "toc_visible": true
    },
    "kernelspec": {
      "display_name": "Python 3",
      "name": "python3"
    }
  },
  "cells": [
    {
      "cell_type": "markdown",
      "metadata": {
        "colab_type": "text",
        "id": "rX8mhOLljYeM"
      },
      "source": [
        "##### Copyright 2019 The TensorFlow Authors."
      ]
    },
    {
      "cell_type": "code",
      "metadata": {
        "cellView": "form",
        "colab_type": "code",
        "id": "BZSlp3DAjdYf",
        "colab": {}
      },
      "source": [
        "#@title Licensed under the Apache License, Version 2.0 (the \"License\");\n",
        "# you may not use this file except in compliance with the License.\n",
        "# You may obtain a copy of the License at\n",
        "#\n",
        "# https://www.apache.org/licenses/LICENSE-2.0\n",
        "#\n",
        "# Unless required by applicable law or agreed to in writing, software\n",
        "# distributed under the License is distributed on an \"AS IS\" BASIS,\n",
        "# WITHOUT WARRANTIES OR CONDITIONS OF ANY KIND, either express or implied.\n",
        "# See the License for the specific language governing permissions and\n",
        "# limitations under the License."
      ],
      "execution_count": 0,
      "outputs": []
    },
    {
      "cell_type": "code",
      "metadata": {
        "colab_type": "code",
        "id": "RXZT2UsyIVe_",
        "colab": {
          "base_uri": "https://localhost:8080/",
          "height": 413
        },
        "outputId": "841cdda4-8ad6-43b2-fcc3-d398563f5afe"
      },
      "source": [
        "!wget --no-check-certificate \\\n",
        "    https://storage.googleapis.com/laurencemoroney-blog.appspot.com/horse-or-human.zip \\\n",
        "    -O /tmp/horse-or-human.zip\n",
        "\n",
        "!wget --no-check-certificate \\\n",
        "    https://storage.googleapis.com/laurencemoroney-blog.appspot.com/validation-horse-or-human.zip \\\n",
        "    -O /tmp/validation-horse-or-human.zip\n",
        "  \n",
        "import os\n",
        "import zipfile\n",
        "\n",
        "local_zip = '/tmp/horse-or-human.zip'\n",
        "zip_ref = zipfile.ZipFile(local_zip, 'r')\n",
        "zip_ref.extractall('/tmp/horse-or-human')\n",
        "local_zip = '/tmp/validation-horse-or-human.zip'\n",
        "zip_ref = zipfile.ZipFile(local_zip, 'r')\n",
        "zip_ref.extractall('/tmp/validation-horse-or-human')\n",
        "zip_ref.close()\n",
        "# Directory with our training horse pictures\n",
        "train_horse_dir = os.path.join('/tmp/horse-or-human/horses')\n",
        "\n",
        "# Directory with our training human pictures\n",
        "train_human_dir = os.path.join('/tmp/horse-or-human/humans')\n",
        "\n",
        "# Directory with our training horse pictures\n",
        "validation_horse_dir = os.path.join('/tmp/validation-horse-or-human/horses')\n",
        "\n",
        "# Directory with our training human pictures\n",
        "validation_human_dir = os.path.join('/tmp/validation-horse-or-human/humans')"
      ],
      "execution_count": 1,
      "outputs": [
        {
          "output_type": "stream",
          "text": [
            "--2020-04-29 02:00:46--  https://storage.googleapis.com/laurencemoroney-blog.appspot.com/horse-or-human.zip\n",
            "Resolving storage.googleapis.com (storage.googleapis.com)... 74.125.204.128, 2404:6800:4008:c04::80\n",
            "Connecting to storage.googleapis.com (storage.googleapis.com)|74.125.204.128|:443... connected.\n",
            "HTTP request sent, awaiting response... 200 OK\n",
            "Length: 149574867 (143M) [application/zip]\n",
            "Saving to: ‘/tmp/horse-or-human.zip’\n",
            "\n",
            "/tmp/horse-or-human 100%[===================>] 142.65M  65.7MB/s    in 2.2s    \n",
            "\n",
            "2020-04-29 02:00:48 (65.7 MB/s) - ‘/tmp/horse-or-human.zip’ saved [149574867/149574867]\n",
            "\n",
            "--2020-04-29 02:00:50--  https://storage.googleapis.com/laurencemoroney-blog.appspot.com/validation-horse-or-human.zip\n",
            "Resolving storage.googleapis.com (storage.googleapis.com)... 108.177.125.128, 2404:6800:4008:c00::80\n",
            "Connecting to storage.googleapis.com (storage.googleapis.com)|108.177.125.128|:443... connected.\n",
            "HTTP request sent, awaiting response... 200 OK\n",
            "Length: 11480187 (11M) [application/zip]\n",
            "Saving to: ‘/tmp/validation-horse-or-human.zip’\n",
            "\n",
            "/tmp/validation-hor 100%[===================>]  10.95M  30.2MB/s    in 0.4s    \n",
            "\n",
            "2020-04-29 02:00:51 (30.2 MB/s) - ‘/tmp/validation-horse-or-human.zip’ saved [11480187/11480187]\n",
            "\n"
          ],
          "name": "stdout"
        }
      ]
    },
    {
      "cell_type": "markdown",
      "metadata": {
        "colab_type": "text",
        "id": "5oqBkNBJmtUv"
      },
      "source": [
        "## Building a Small Model from Scratch\n",
        "\n",
        "But before we continue, let's start defining the model:\n",
        "\n",
        "Step 1 will be to import tensorflow."
      ]
    },
    {
      "cell_type": "code",
      "metadata": {
        "colab_type": "code",
        "id": "qvfZg3LQbD-5",
        "colab": {}
      },
      "source": [
        "import tensorflow as tf"
      ],
      "execution_count": 0,
      "outputs": []
    },
    {
      "cell_type": "markdown",
      "metadata": {
        "colab_type": "text",
        "id": "BnhYCP4tdqjC"
      },
      "source": [
        "We then add convolutional layers as in the previous example, and flatten the final result to feed into the densely connected layers."
      ]
    },
    {
      "cell_type": "markdown",
      "metadata": {
        "colab_type": "text",
        "id": "gokG5HKpdtzm"
      },
      "source": [
        "Finally we add the densely connected layers. \n",
        "\n",
        "Note that because we are facing a two-class classification problem, i.e. a *binary classification problem*, we will end our network with a [*sigmoid* activation](https://wikipedia.org/wiki/Sigmoid_function), so that the output of our network will be a single scalar between 0 and 1, encoding the probability that the current image is class 1 (as opposed to class 0)."
      ]
    },
    {
      "cell_type": "code",
      "metadata": {
        "colab_type": "code",
        "id": "PixZ2s5QbYQ3",
        "colab": {}
      },
      "source": [
        "model = tf.keras.models.Sequential([\n",
        "    # Note the input shape is the desired size of the image 300x300 with 3 bytes color\n",
        "    # This is the first convolution\n",
        "    tf.keras.layers.Conv2D(16, (3,3), activation='relu', input_shape=(300, 300, 3)),\n",
        "    tf.keras.layers.MaxPooling2D(2, 2),\n",
        "    # The second convolution\n",
        "    tf.keras.layers.Conv2D(32, (3,3), activation='relu'),\n",
        "    tf.keras.layers.MaxPooling2D(2,2),\n",
        "    # The third convolution\n",
        "    tf.keras.layers.Conv2D(64, (3,3), activation='relu'),\n",
        "    tf.keras.layers.MaxPooling2D(2,2),\n",
        "    # The fourth convolution\n",
        "    tf.keras.layers.Conv2D(64, (3,3), activation='relu'),\n",
        "    tf.keras.layers.MaxPooling2D(2,2),\n",
        "    # The fifth convolution\n",
        "    tf.keras.layers.Conv2D(64, (3,3), activation='relu'),\n",
        "    tf.keras.layers.MaxPooling2D(2,2),\n",
        "    # Flatten the results to feed into a DNN\n",
        "    tf.keras.layers.Flatten(),\n",
        "    # 512 neuron hidden layer\n",
        "    tf.keras.layers.Dense(512, activation='relu'),\n",
        "    # Only 1 output neuron. It will contain a value from 0-1 where 0 for 1 class ('horses') and 1 for the other ('humans')\n",
        "    tf.keras.layers.Dense(1, activation='sigmoid')\n",
        "])"
      ],
      "execution_count": 0,
      "outputs": []
    },
    {
      "cell_type": "code",
      "metadata": {
        "colab_type": "code",
        "id": "8DHWhFP_uhq3",
        "colab": {}
      },
      "source": [
        "from tensorflow.keras.optimizers import RMSprop\n",
        "\n",
        "model.compile(loss='binary_crossentropy',\n",
        "              optimizer=RMSprop(lr=1e-4),\n",
        "              metrics=['accuracy'])"
      ],
      "execution_count": 0,
      "outputs": []
    },
    {
      "cell_type": "code",
      "metadata": {
        "colab_type": "code",
        "id": "ClebU9NJg99G",
        "colab": {
          "base_uri": "https://localhost:8080/",
          "height": 53
        },
        "outputId": "6530abd0-3bf4-41fb-8bc5-59f3744c4d38"
      },
      "source": [
        "from tensorflow.keras.preprocessing.image import ImageDataGenerator\n",
        "\n",
        "# All images will be rescaled by 1./255\n",
        "train_datagen = ImageDataGenerator(\n",
        "      rescale=1./255,\n",
        "      rotation_range=40,\n",
        "      width_shift_range=0.2,\n",
        "      height_shift_range=0.2,\n",
        "      shear_range=0.2,\n",
        "      zoom_range=0.2,\n",
        "      horizontal_flip=True,\n",
        "      fill_mode='nearest')\n",
        "\n",
        "validation_datagen = ImageDataGenerator(rescale=1/255)\n",
        "\n",
        "# Flow training images in batches of 128 using train_datagen generator\n",
        "train_generator = train_datagen.flow_from_directory(\n",
        "        '/tmp/horse-or-human/',  # This is the source directory for training images\n",
        "        target_size=(300, 300),  # All images will be resized to 150x150\n",
        "        batch_size=128,\n",
        "        # Since we use binary_crossentropy loss, we need binary labels\n",
        "        class_mode='binary')\n",
        "\n",
        "# Flow training images in batches of 128 using train_datagen generator\n",
        "validation_generator = validation_datagen.flow_from_directory(\n",
        "        '/tmp/validation-horse-or-human/',  # This is the source directory for training images\n",
        "        target_size=(300, 300),  # All images will be resized to 150x150\n",
        "        batch_size=32,\n",
        "        # Since we use binary_crossentropy loss, we need binary labels\n",
        "        class_mode='binary')"
      ],
      "execution_count": 5,
      "outputs": [
        {
          "output_type": "stream",
          "text": [
            "Found 1027 images belonging to 2 classes.\n",
            "Found 256 images belonging to 2 classes.\n"
          ],
          "name": "stdout"
        }
      ]
    },
    {
      "cell_type": "code",
      "metadata": {
        "colab_type": "code",
        "id": "Fb1_lgobv81m",
        "colab": {
          "base_uri": "https://localhost:8080/",
          "height": 1000
        },
        "outputId": "33860255-e10a-4012-b91b-b6bd9cbec85b"
      },
      "source": [
        "history = model.fit(\n",
        "      train_generator,\n",
        "      steps_per_epoch=8,  \n",
        "      epochs=100,\n",
        "      verbose=1,\n",
        "      validation_data = validation_generator,\n",
        "      validation_steps=8)"
      ],
      "execution_count": 6,
      "outputs": [
        {
          "output_type": "stream",
          "text": [
            "Epoch 1/100\n",
            "8/8 [==============================] - 18s 2s/step - loss: 0.6867 - accuracy: 0.5332 - val_loss: 0.6310 - val_accuracy: 0.8477\n",
            "Epoch 2/100\n",
            "8/8 [==============================] - 21s 3s/step - loss: 0.6775 - accuracy: 0.5996 - val_loss: 0.6025 - val_accuracy: 0.7227\n",
            "Epoch 3/100\n",
            "8/8 [==============================] - 18s 2s/step - loss: 0.6572 - accuracy: 0.6741 - val_loss: 0.6089 - val_accuracy: 0.5703\n",
            "Epoch 4/100\n",
            "8/8 [==============================] - 18s 2s/step - loss: 0.6387 - accuracy: 0.6808 - val_loss: 0.5235 - val_accuracy: 0.8047\n",
            "Epoch 5/100\n",
            "8/8 [==============================] - 18s 2s/step - loss: 0.6168 - accuracy: 0.6796 - val_loss: 0.5971 - val_accuracy: 0.5781\n",
            "Epoch 6/100\n",
            "8/8 [==============================] - 19s 2s/step - loss: 0.5953 - accuracy: 0.7353 - val_loss: 0.6577 - val_accuracy: 0.5859\n",
            "Epoch 7/100\n",
            "8/8 [==============================] - 19s 2s/step - loss: 0.5666 - accuracy: 0.7208 - val_loss: 0.5358 - val_accuracy: 0.7227\n",
            "Epoch 8/100\n",
            "8/8 [==============================] - 19s 2s/step - loss: 0.5607 - accuracy: 0.7341 - val_loss: 0.7628 - val_accuracy: 0.5898\n",
            "Epoch 9/100\n",
            "8/8 [==============================] - 19s 2s/step - loss: 0.5327 - accuracy: 0.7664 - val_loss: 1.5220 - val_accuracy: 0.5000\n",
            "Epoch 10/100\n",
            "8/8 [==============================] - 21s 3s/step - loss: 0.5479 - accuracy: 0.7236 - val_loss: 0.6301 - val_accuracy: 0.6875\n",
            "Epoch 11/100\n",
            "8/8 [==============================] - 21s 3s/step - loss: 0.5534 - accuracy: 0.7419 - val_loss: 0.9413 - val_accuracy: 0.5664\n",
            "Epoch 12/100\n",
            "8/8 [==============================] - 19s 2s/step - loss: 0.5445 - accuracy: 0.7286 - val_loss: 0.7529 - val_accuracy: 0.6445\n",
            "Epoch 13/100\n",
            "8/8 [==============================] - 18s 2s/step - loss: 0.4540 - accuracy: 0.7809 - val_loss: 0.5711 - val_accuracy: 0.7422\n",
            "Epoch 14/100\n",
            "8/8 [==============================] - 19s 2s/step - loss: 0.5073 - accuracy: 0.7764 - val_loss: 0.9708 - val_accuracy: 0.6133\n",
            "Epoch 15/100\n",
            "8/8 [==============================] - 18s 2s/step - loss: 0.4195 - accuracy: 0.7920 - val_loss: 0.7754 - val_accuracy: 0.7031\n",
            "Epoch 16/100\n",
            "8/8 [==============================] - 18s 2s/step - loss: 0.5838 - accuracy: 0.7453 - val_loss: 0.7905 - val_accuracy: 0.6680\n",
            "Epoch 17/100\n",
            "8/8 [==============================] - 18s 2s/step - loss: 0.4094 - accuracy: 0.8087 - val_loss: 1.0616 - val_accuracy: 0.6094\n",
            "Epoch 18/100\n",
            "8/8 [==============================] - 18s 2s/step - loss: 0.4634 - accuracy: 0.7942 - val_loss: 1.8092 - val_accuracy: 0.5312\n",
            "Epoch 19/100\n",
            "8/8 [==============================] - 20s 3s/step - loss: 0.4560 - accuracy: 0.7988 - val_loss: 0.8967 - val_accuracy: 0.6797\n",
            "Epoch 20/100\n",
            "8/8 [==============================] - 21s 3s/step - loss: 0.4400 - accuracy: 0.7931 - val_loss: 1.3012 - val_accuracy: 0.5742\n",
            "Epoch 21/100\n",
            "8/8 [==============================] - 18s 2s/step - loss: 0.4174 - accuracy: 0.7987 - val_loss: 1.3445 - val_accuracy: 0.5859\n",
            "Epoch 22/100\n",
            "8/8 [==============================] - 18s 2s/step - loss: 0.3912 - accuracy: 0.8309 - val_loss: 1.2774 - val_accuracy: 0.6289\n",
            "Epoch 23/100\n",
            "8/8 [==============================] - 18s 2s/step - loss: 0.4155 - accuracy: 0.8109 - val_loss: 1.0992 - val_accuracy: 0.6523\n",
            "Epoch 24/100\n",
            "8/8 [==============================] - 18s 2s/step - loss: 0.4543 - accuracy: 0.7430 - val_loss: 0.9669 - val_accuracy: 0.6758\n",
            "Epoch 25/100\n",
            "8/8 [==============================] - 18s 2s/step - loss: 0.4593 - accuracy: 0.8187 - val_loss: 1.1012 - val_accuracy: 0.6367\n",
            "Epoch 26/100\n",
            "8/8 [==============================] - 18s 2s/step - loss: 0.4285 - accuracy: 0.8387 - val_loss: 1.1009 - val_accuracy: 0.6484\n",
            "Epoch 27/100\n",
            "8/8 [==============================] - 18s 2s/step - loss: 0.3940 - accuracy: 0.8398 - val_loss: 1.1840 - val_accuracy: 0.6562\n",
            "Epoch 28/100\n",
            "8/8 [==============================] - 21s 3s/step - loss: 0.4152 - accuracy: 0.8047 - val_loss: 1.2891 - val_accuracy: 0.6133\n",
            "Epoch 29/100\n",
            "8/8 [==============================] - 21s 3s/step - loss: 0.3552 - accuracy: 0.8554 - val_loss: 1.5796 - val_accuracy: 0.5820\n",
            "Epoch 30/100\n",
            "8/8 [==============================] - 18s 2s/step - loss: 0.4325 - accuracy: 0.8198 - val_loss: 1.2626 - val_accuracy: 0.6406\n",
            "Epoch 31/100\n",
            "8/8 [==============================] - 18s 2s/step - loss: 0.3009 - accuracy: 0.8543 - val_loss: 1.8062 - val_accuracy: 0.5664\n",
            "Epoch 32/100\n",
            "8/8 [==============================] - 18s 2s/step - loss: 0.3461 - accuracy: 0.8231 - val_loss: 1.2256 - val_accuracy: 0.6758\n",
            "Epoch 33/100\n",
            "8/8 [==============================] - 18s 2s/step - loss: 0.3328 - accuracy: 0.8498 - val_loss: 2.6201 - val_accuracy: 0.5391\n",
            "Epoch 34/100\n",
            "8/8 [==============================] - 18s 2s/step - loss: 0.3214 - accuracy: 0.8532 - val_loss: 1.2816 - val_accuracy: 0.6836\n",
            "Epoch 35/100\n",
            "8/8 [==============================] - 18s 2s/step - loss: 0.3720 - accuracy: 0.8065 - val_loss: 2.0006 - val_accuracy: 0.5625\n",
            "Epoch 36/100\n",
            "8/8 [==============================] - 18s 2s/step - loss: 0.2841 - accuracy: 0.8676 - val_loss: 0.6541 - val_accuracy: 0.7344\n",
            "Epoch 37/100\n",
            "8/8 [==============================] - 20s 3s/step - loss: 0.3343 - accuracy: 0.8555 - val_loss: 2.2876 - val_accuracy: 0.5469\n",
            "Epoch 38/100\n",
            "8/8 [==============================] - 21s 3s/step - loss: 0.2893 - accuracy: 0.8687 - val_loss: 1.3701 - val_accuracy: 0.6680\n",
            "Epoch 39/100\n",
            "8/8 [==============================] - 18s 2s/step - loss: 0.3299 - accuracy: 0.8754 - val_loss: 1.7779 - val_accuracy: 0.6133\n",
            "Epoch 40/100\n",
            "8/8 [==============================] - 18s 2s/step - loss: 0.5390 - accuracy: 0.8187 - val_loss: 1.4584 - val_accuracy: 0.6367\n",
            "Epoch 41/100\n",
            "8/8 [==============================] - 18s 2s/step - loss: 0.3058 - accuracy: 0.8843 - val_loss: 2.3543 - val_accuracy: 0.5664\n",
            "Epoch 42/100\n",
            "8/8 [==============================] - 18s 2s/step - loss: 0.3316 - accuracy: 0.8799 - val_loss: 1.4374 - val_accuracy: 0.6211\n",
            "Epoch 43/100\n",
            "8/8 [==============================] - 18s 2s/step - loss: 0.2647 - accuracy: 0.8821 - val_loss: 1.6750 - val_accuracy: 0.6484\n",
            "Epoch 44/100\n",
            "8/8 [==============================] - 18s 2s/step - loss: 0.3575 - accuracy: 0.8643 - val_loss: 2.4430 - val_accuracy: 0.5195\n",
            "Epoch 45/100\n",
            "8/8 [==============================] - 18s 2s/step - loss: 0.3384 - accuracy: 0.8799 - val_loss: 1.2516 - val_accuracy: 0.6484\n",
            "Epoch 46/100\n",
            "8/8 [==============================] - 20s 3s/step - loss: 0.2860 - accuracy: 0.8809 - val_loss: 1.2990 - val_accuracy: 0.6562\n",
            "Epoch 47/100\n",
            "8/8 [==============================] - 21s 3s/step - loss: 0.2814 - accuracy: 0.8587 - val_loss: 2.6557 - val_accuracy: 0.5625\n",
            "Epoch 48/100\n",
            "8/8 [==============================] - 18s 2s/step - loss: 0.2926 - accuracy: 0.8610 - val_loss: 2.2228 - val_accuracy: 0.5977\n",
            "Epoch 49/100\n",
            "8/8 [==============================] - 18s 2s/step - loss: 0.4090 - accuracy: 0.8565 - val_loss: 1.9538 - val_accuracy: 0.6094\n",
            "Epoch 50/100\n",
            "8/8 [==============================] - 18s 2s/step - loss: 0.2208 - accuracy: 0.9021 - val_loss: 1.7022 - val_accuracy: 0.6484\n",
            "Epoch 51/100\n",
            "8/8 [==============================] - 18s 2s/step - loss: 0.2930 - accuracy: 0.8776 - val_loss: 2.0706 - val_accuracy: 0.6055\n",
            "Epoch 52/100\n",
            "8/8 [==============================] - 18s 2s/step - loss: 0.2438 - accuracy: 0.8843 - val_loss: 1.9743 - val_accuracy: 0.6172\n",
            "Epoch 53/100\n",
            "8/8 [==============================] - 18s 2s/step - loss: 0.3153 - accuracy: 0.8543 - val_loss: 2.5721 - val_accuracy: 0.5430\n",
            "Epoch 54/100\n",
            "8/8 [==============================] - 18s 2s/step - loss: 0.2941 - accuracy: 0.8810 - val_loss: 1.3438 - val_accuracy: 0.6914\n",
            "Epoch 55/100\n",
            "8/8 [==============================] - 20s 3s/step - loss: 0.2602 - accuracy: 0.8789 - val_loss: 1.7070 - val_accuracy: 0.6680\n",
            "Epoch 56/100\n",
            "8/8 [==============================] - 21s 3s/step - loss: 0.2532 - accuracy: 0.8654 - val_loss: 2.9538 - val_accuracy: 0.5586\n",
            "Epoch 57/100\n",
            "8/8 [==============================] - 18s 2s/step - loss: 0.2809 - accuracy: 0.8854 - val_loss: 2.4156 - val_accuracy: 0.6094\n",
            "Epoch 58/100\n",
            "8/8 [==============================] - 18s 2s/step - loss: 0.2043 - accuracy: 0.9077 - val_loss: 2.6635 - val_accuracy: 0.5742\n",
            "Epoch 59/100\n",
            "8/8 [==============================] - 18s 2s/step - loss: 0.2321 - accuracy: 0.8977 - val_loss: 1.1433 - val_accuracy: 0.7266\n",
            "Epoch 60/100\n",
            "8/8 [==============================] - 18s 2s/step - loss: 0.2895 - accuracy: 0.8676 - val_loss: 3.0697 - val_accuracy: 0.5742\n",
            "Epoch 61/100\n",
            "8/8 [==============================] - 18s 2s/step - loss: 0.2094 - accuracy: 0.9032 - val_loss: 3.4327 - val_accuracy: 0.5000\n",
            "Epoch 62/100\n",
            "8/8 [==============================] - 18s 2s/step - loss: 0.3781 - accuracy: 0.8821 - val_loss: 1.0694 - val_accuracy: 0.6992\n",
            "Epoch 63/100\n",
            "8/8 [==============================] - 18s 2s/step - loss: 0.2061 - accuracy: 0.9077 - val_loss: 1.8816 - val_accuracy: 0.6445\n",
            "Epoch 64/100\n",
            "8/8 [==============================] - 20s 3s/step - loss: 0.2070 - accuracy: 0.9229 - val_loss: 2.4881 - val_accuracy: 0.6055\n",
            "Epoch 65/100\n",
            "8/8 [==============================] - 21s 3s/step - loss: 0.2544 - accuracy: 0.8776 - val_loss: 2.4802 - val_accuracy: 0.6094\n",
            "Epoch 66/100\n",
            "8/8 [==============================] - 18s 2s/step - loss: 0.2745 - accuracy: 0.8832 - val_loss: 1.9687 - val_accuracy: 0.6562\n",
            "Epoch 67/100\n",
            "8/8 [==============================] - 18s 2s/step - loss: 0.2246 - accuracy: 0.9110 - val_loss: 2.0806 - val_accuracy: 0.6367\n",
            "Epoch 68/100\n",
            "8/8 [==============================] - 18s 2s/step - loss: 0.2586 - accuracy: 0.8865 - val_loss: 2.6443 - val_accuracy: 0.5977\n",
            "Epoch 69/100\n",
            "8/8 [==============================] - 18s 2s/step - loss: 0.2183 - accuracy: 0.9143 - val_loss: 1.7852 - val_accuracy: 0.7031\n",
            "Epoch 70/100\n",
            "8/8 [==============================] - 18s 2s/step - loss: 0.1841 - accuracy: 0.9188 - val_loss: 1.6300 - val_accuracy: 0.6602\n",
            "Epoch 71/100\n",
            "8/8 [==============================] - 18s 2s/step - loss: 0.2028 - accuracy: 0.9021 - val_loss: 3.1788 - val_accuracy: 0.5508\n",
            "Epoch 72/100\n",
            "8/8 [==============================] - 18s 2s/step - loss: 0.1856 - accuracy: 0.9166 - val_loss: 1.7180 - val_accuracy: 0.6914\n",
            "Epoch 73/100\n",
            "8/8 [==============================] - 20s 3s/step - loss: 0.2547 - accuracy: 0.8799 - val_loss: 2.2706 - val_accuracy: 0.6367\n",
            "Epoch 74/100\n",
            "8/8 [==============================] - 21s 3s/step - loss: 0.1884 - accuracy: 0.9155 - val_loss: 3.1109 - val_accuracy: 0.5430\n",
            "Epoch 75/100\n",
            "8/8 [==============================] - 18s 2s/step - loss: 0.2218 - accuracy: 0.9055 - val_loss: 2.7778 - val_accuracy: 0.5820\n",
            "Epoch 76/100\n",
            "8/8 [==============================] - 18s 2s/step - loss: 0.2286 - accuracy: 0.9021 - val_loss: 2.0260 - val_accuracy: 0.6641\n",
            "Epoch 77/100\n",
            "8/8 [==============================] - 18s 2s/step - loss: 0.2006 - accuracy: 0.9066 - val_loss: 2.0170 - val_accuracy: 0.6719\n",
            "Epoch 78/100\n",
            "8/8 [==============================] - 18s 2s/step - loss: 0.1988 - accuracy: 0.9244 - val_loss: 1.6566 - val_accuracy: 0.6641\n",
            "Epoch 79/100\n",
            "8/8 [==============================] - 18s 2s/step - loss: 0.3864 - accuracy: 0.8843 - val_loss: 3.1660 - val_accuracy: 0.5898\n",
            "Epoch 80/100\n",
            "8/8 [==============================] - 18s 2s/step - loss: 0.1601 - accuracy: 0.9377 - val_loss: 2.2991 - val_accuracy: 0.6250\n",
            "Epoch 81/100\n",
            "8/8 [==============================] - 18s 2s/step - loss: 0.1706 - accuracy: 0.9310 - val_loss: 0.8780 - val_accuracy: 0.7852\n",
            "Epoch 82/100\n",
            "8/8 [==============================] - 20s 3s/step - loss: 0.1849 - accuracy: 0.9297 - val_loss: 2.3108 - val_accuracy: 0.6484\n",
            "Epoch 83/100\n",
            "8/8 [==============================] - 21s 3s/step - loss: 0.1751 - accuracy: 0.9366 - val_loss: 2.1957 - val_accuracy: 0.6602\n",
            "Epoch 84/100\n",
            "8/8 [==============================] - 18s 2s/step - loss: 0.1483 - accuracy: 0.9321 - val_loss: 1.4814 - val_accuracy: 0.7188\n",
            "Epoch 85/100\n",
            "8/8 [==============================] - 18s 2s/step - loss: 0.1886 - accuracy: 0.9166 - val_loss: 3.0463 - val_accuracy: 0.5898\n",
            "Epoch 86/100\n",
            "8/8 [==============================] - 18s 2s/step - loss: 0.1643 - accuracy: 0.9232 - val_loss: 1.9822 - val_accuracy: 0.6875\n",
            "Epoch 87/100\n",
            "8/8 [==============================] - 18s 2s/step - loss: 0.1631 - accuracy: 0.9199 - val_loss: 4.5073 - val_accuracy: 0.5234\n",
            "Epoch 88/100\n",
            "8/8 [==============================] - 18s 2s/step - loss: 0.2010 - accuracy: 0.9066 - val_loss: 2.0025 - val_accuracy: 0.6875\n",
            "Epoch 89/100\n",
            "8/8 [==============================] - 18s 2s/step - loss: 0.2322 - accuracy: 0.9166 - val_loss: 4.7354 - val_accuracy: 0.5312\n",
            "Epoch 90/100\n",
            "8/8 [==============================] - 18s 2s/step - loss: 0.1492 - accuracy: 0.9422 - val_loss: 2.7470 - val_accuracy: 0.6328\n",
            "Epoch 91/100\n",
            "8/8 [==============================] - 20s 3s/step - loss: 0.1657 - accuracy: 0.9307 - val_loss: 2.8138 - val_accuracy: 0.6406\n",
            "Epoch 92/100\n",
            "8/8 [==============================] - 21s 3s/step - loss: 0.2680 - accuracy: 0.8977 - val_loss: 1.9770 - val_accuracy: 0.6484\n",
            "Epoch 93/100\n",
            "8/8 [==============================] - 18s 2s/step - loss: 0.1378 - accuracy: 0.9433 - val_loss: 1.7292 - val_accuracy: 0.6914\n",
            "Epoch 94/100\n",
            "8/8 [==============================] - 18s 2s/step - loss: 0.1708 - accuracy: 0.9410 - val_loss: 2.3229 - val_accuracy: 0.6875\n",
            "Epoch 95/100\n",
            "8/8 [==============================] - 18s 2s/step - loss: 0.3215 - accuracy: 0.8932 - val_loss: 3.2606 - val_accuracy: 0.5781\n",
            "Epoch 96/100\n",
            "8/8 [==============================] - 18s 2s/step - loss: 0.2778 - accuracy: 0.9132 - val_loss: 1.9171 - val_accuracy: 0.6445\n",
            "Epoch 97/100\n",
            "8/8 [==============================] - 18s 2s/step - loss: 0.2057 - accuracy: 0.9277 - val_loss: 1.5224 - val_accuracy: 0.6797\n",
            "Epoch 98/100\n",
            "8/8 [==============================] - 18s 2s/step - loss: 0.1391 - accuracy: 0.9366 - val_loss: 2.6387 - val_accuracy: 0.6133\n",
            "Epoch 99/100\n",
            "8/8 [==============================] - 18s 2s/step - loss: 0.1478 - accuracy: 0.9499 - val_loss: 1.8197 - val_accuracy: 0.7227\n",
            "Epoch 100/100\n",
            "8/8 [==============================] - 20s 3s/step - loss: 0.1865 - accuracy: 0.9248 - val_loss: 3.8946 - val_accuracy: 0.5820\n"
          ],
          "name": "stdout"
        }
      ]
    },
    {
      "cell_type": "code",
      "metadata": {
        "colab_type": "code",
        "id": "7zNPRWOVJdOH",
        "colab": {
          "base_uri": "https://localhost:8080/",
          "height": 545
        },
        "outputId": "e5ed8540-347c-4817-fe66-b0eebc9d92bb"
      },
      "source": [
        "import matplotlib.pyplot as plt\n",
        "acc = history.history['accuracy']\n",
        "val_acc = history.history['val_accuracy']\n",
        "loss = history.history['loss']\n",
        "val_loss = history.history['val_loss']\n",
        "\n",
        "epochs = range(len(acc))\n",
        "\n",
        "plt.plot(epochs, acc, 'r', label='Training accuracy')\n",
        "plt.plot(epochs, val_acc, 'b', label='Validation accuracy')\n",
        "plt.title('Training and validation accuracy')\n",
        "\n",
        "plt.figure()\n",
        "\n",
        "plt.plot(epochs, loss, 'r', label='Training Loss')\n",
        "plt.plot(epochs, val_loss, 'b', label='Validation Loss')\n",
        "plt.title('Training and validation loss')\n",
        "plt.legend()\n",
        "\n",
        "plt.show()"
      ],
      "execution_count": 7,
      "outputs": [
        {
          "output_type": "display_data",
          "data": {
            "image/png": "[encoded data removed]",
            "text/plain": [
              "<Figure size 432x288 with 1 Axes>"
            ]
          },
          "metadata": {
            "tags": [],
            "needs_background": "light"
          }
        },
        {
          "output_type": "display_data",
          "data": {
            "image/png": "[encoded data removed]",
            "text/plain": [
              "<Figure size 432x288 with 1 Axes>"
            ]
          },
          "metadata": {
            "tags": [],
            "needs_background": "light"
          }
        }
      ]
    }
  ]
}