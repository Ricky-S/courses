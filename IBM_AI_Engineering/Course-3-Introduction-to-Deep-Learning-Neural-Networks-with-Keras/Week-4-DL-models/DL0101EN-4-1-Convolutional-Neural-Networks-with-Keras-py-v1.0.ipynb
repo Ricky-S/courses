{
 "cells": [
  {
   "cell_type": "markdown",
   "metadata": {},
   "source": [
    "<a href=\"https://cognitiveclass.ai\"><img src = \"https://s3-api.us-geo.objectstorage.softlayer.net/cf-courses-data/CognitiveClass/Logos/organization_logo/organization_logo.png\" width = 400> </a>\n",
    "\n",
    "<h1 align=center><font size = 5>Convolutional Neural Networks with Keras</font></h1>"
   ]
  },
  {
   "cell_type": "markdown",
   "metadata": {},
   "source": [
    "In this lab, we will learn how to use the Keras library to build convolutional neural networks. We will also use the popular MNIST dataset and we will compare our results to using a conventional neural network.\n"
   ]
  },
  {
   "cell_type": "markdown",
   "metadata": {},
   "source": [
    "## Table of Contents\n",
    "\n",
    "<div class=\"alert alert-block alert-info\" style=\"margin-top: 20px\">\n",
    "\n",
    "<font size = 3>\n",
    "      \n",
    "1. <a href=\"#item41\">Import Keras and Packages</a>   \n",
    "2. <a href=\"#item42\">Convolutional Neural Network with One Convolutional and Pooling Layers</a>  \n",
    "3. <a href=\"#item43\">Convolutional Neural Network with Two Convolutional and Pooling Layers</a>  \n",
    "\n",
    "</font>\n",
    "</div>"
   ]
  },
  {
   "cell_type": "markdown",
   "metadata": {},
   "source": [
    "<a id='item41'></a>"
   ]
  },
  {
   "cell_type": "markdown",
   "metadata": {},
   "source": [
    "## Import Keras and Packages"
   ]
  },
  {
   "cell_type": "markdown",
   "metadata": {},
   "source": [
    "Let's start by importing the keras libraries and the packages that we would need to build a neural network."
   ]
  },
  {
   "cell_type": "code",
   "execution_count": 1,
   "metadata": {},
   "outputs": [
    {
     "name": "stderr",
     "output_type": "stream",
     "text": [
      "Using TensorFlow backend.\n"
     ]
    }
   ],
   "source": [
    "import keras\n",
    "from keras.models import Sequential\n",
    "from keras.layers import Dense\n",
    "from keras.utils import to_categorical"
   ]
  },
  {
   "cell_type": "markdown",
   "metadata": {},
   "source": [
    "When working with convolutional neural networks in particular, we will need additional packages."
   ]
  },
  {
   "cell_type": "code",
   "execution_count": 2,
   "metadata": {},
   "outputs": [],
   "source": [
    "from keras.layers.convolutional import Conv2D # to add convolutional layers\n",
    "from keras.layers.convolutional import MaxPooling2D # to add pooling layers\n",
    "from keras.layers import Flatten # to flatten data for fully connected layers"
   ]
  },
  {
   "cell_type": "markdown",
   "metadata": {},
   "source": [
    "<a id='item42'></a>"
   ]
  },
  {
   "cell_type": "markdown",
   "metadata": {},
   "source": [
    "## Convolutional Layer with One set of convolutional and pooling layers"
   ]
  },
  {
   "cell_type": "code",
   "execution_count": 3,
   "metadata": {},
   "outputs": [],
   "source": [
    "# import data\n",
    "from keras.datasets import mnist\n",
    "\n",
    "# load data\n",
    "(X_train, y_train), (X_test, y_test) = mnist.load_data()\n",
    "\n",
    "# reshape to be [samples][pixels][width][height]\n",
    "X_train = X_train.reshape(X_train.shape[0], 28, 28, 1).astype('float32')\n",
    "X_test = X_test.reshape(X_test.shape[0], 28, 28, 1).astype('float32')"
   ]
  },
  {
   "cell_type": "markdown",
   "metadata": {},
   "source": [
    "Let's normalize the pixel values to be between 0 and 1"
   ]
  },
  {
   "cell_type": "code",
   "execution_count": 4,
   "metadata": {},
   "outputs": [],
   "source": [
    "X_train = X_train / 255 # normalize training data\n",
    "X_test = X_test / 255 # normalize test data"
   ]
  },
  {
   "cell_type": "markdown",
   "metadata": {},
   "source": [
    "Next, let's convert the target variable into binary categories"
   ]
  },
  {
   "cell_type": "code",
   "execution_count": 5,
   "metadata": {},
   "outputs": [],
   "source": [
    "y_train = to_categorical(y_train)\n",
    "y_test = to_categorical(y_test)\n",
    "\n",
    "num_classes = y_test.shape[1] # number of categories"
   ]
  },
  {
   "cell_type": "markdown",
   "metadata": {},
   "source": [
    "Next, let's define a function that creates our model. Let's start with one set of convolutional and pooling layers."
   ]
  },
  {
   "cell_type": "code",
   "execution_count": 6,
   "metadata": {},
   "outputs": [],
   "source": [
    "def convolutional_model():\n",
    "    \n",
    "    # create model\n",
    "    model = Sequential()\n",
    "    model.add(Conv2D(16, (5, 5), strides=(1, 1), activation='relu', input_shape=(28, 28, 1)))\n",
    "    model.add(MaxPooling2D(pool_size=(2, 2), strides=(2, 2)))\n",
    "    \n",
    "    model.add(Flatten())\n",
    "    model.add(Dense(100, activation='relu'))\n",
    "    model.add(Dense(num_classes, activation='softmax'))\n",
    "    \n",
    "    # compile model\n",
    "    model.compile(optimizer='adam', loss='categorical_crossentropy',  metrics=['accuracy'])\n",
    "    return model"
   ]
  },
  {
   "cell_type": "markdown",
   "metadata": {},
   "source": [
    "Finally, let's call the function to create the model, and then let's train it and evaluate it."
   ]
  },
  {
   "cell_type": "code",
   "execution_count": 9,
   "metadata": {},
   "outputs": [
    {
     "name": "stdout",
     "output_type": "stream",
     "text": [
      "Train on 60000 samples, validate on 10000 samples\n",
      "Epoch 1/10\n",
      "60000/60000 [==============================] - 8s 131us/step - loss: 0.2890 - accuracy: 0.9215 - val_loss: 0.1064 - val_accuracy: 0.9688\n",
      "Epoch 2/10\n",
      "60000/60000 [==============================] - 8s 126us/step - loss: 0.0859 - accuracy: 0.9754 - val_loss: 0.0612 - val_accuracy: 0.9794\n",
      "Epoch 3/10\n",
      "60000/60000 [==============================] - 8s 125us/step - loss: 0.0558 - accuracy: 0.9836 - val_loss: 0.0499 - val_accuracy: 0.9834\n",
      "Epoch 4/10\n",
      "60000/60000 [==============================] - 8s 126us/step - loss: 0.0443 - accuracy: 0.9874 - val_loss: 0.0449 - val_accuracy: 0.9849\n",
      "Epoch 5/10\n",
      "60000/60000 [==============================] - 8s 126us/step - loss: 0.0347 - accuracy: 0.9894 - val_loss: 0.0387 - val_accuracy: 0.9855\n",
      "Epoch 6/10\n",
      "60000/60000 [==============================] - 8s 126us/step - loss: 0.0282 - accuracy: 0.9913 - val_loss: 0.0418 - val_accuracy: 0.9858\n",
      "Epoch 7/10\n",
      "60000/60000 [==============================] - 8s 126us/step - loss: 0.0230 - accuracy: 0.9931 - val_loss: 0.0384 - val_accuracy: 0.9865\n",
      "Epoch 8/10\n",
      "60000/60000 [==============================] - 8s 126us/step - loss: 0.0194 - accuracy: 0.9941 - val_loss: 0.0389 - val_accuracy: 0.9872\n",
      "Epoch 9/10\n",
      "60000/60000 [==============================] - 8s 128us/step - loss: 0.0147 - accuracy: 0.9955 - val_loss: 0.0403 - val_accuracy: 0.9865\n",
      "Epoch 10/10\n",
      "60000/60000 [==============================] - 8s 128us/step - loss: 0.0130 - accuracy: 0.9963 - val_loss: 0.0395 - val_accuracy: 0.9864\n",
      "10000/10000 [==============================] - 0s 31us/step\n",
      "Accuracy: 0.9864000082015991 \n",
      " Error: 1.359999179840088\n"
     ]
    }
   ],
   "source": [
    "# build the model\n",
    "model = convolutional_model()\n",
    "\n",
    "# fit the model\n",
    "model.fit(X_train, y_train, validation_data=(X_test, y_test), epochs=10, batch_size=200, verbose=1)\n",
    "\n",
    "# evaluate the model\n",
    "scores = model.evaluate(X_test, y_test, verbose=1)\n",
    "print(\"Accuracy: {} \\n Error: {}\".format(scores[1], 100-scores[1]*100))"
   ]
  },
  {
   "cell_type": "markdown",
   "metadata": {},
   "source": [
    "------------------------------------------"
   ]
  },
  {
   "cell_type": "markdown",
   "metadata": {},
   "source": [
    "<a id='item43'></a>"
   ]
  },
  {
   "cell_type": "markdown",
   "metadata": {},
   "source": [
    "## Convolutional Layer with two sets of convolutional and pooling layers"
   ]
  },
  {
   "cell_type": "markdown",
   "metadata": {},
   "source": [
    "Let's redefine our convolutional model so that it has two convolutional and pooling layers instead of just one layer of each."
   ]
  },
  {
   "cell_type": "code",
   "execution_count": 10,
   "metadata": {},
   "outputs": [],
   "source": [
    "def convolutional_model():\n",
    "    \n",
    "    # create model\n",
    "    model = Sequential()\n",
    "    model.add(Conv2D(16, (5, 5), activation='relu', input_shape=(28, 28, 1)))\n",
    "    model.add(MaxPooling2D(pool_size=(2, 2), strides=(2, 2)))\n",
    "    \n",
    "    model.add(Conv2D(8, (2, 2), activation='relu'))\n",
    "    model.add(MaxPooling2D(pool_size=(2, 2), strides=(2, 2)))\n",
    "    \n",
    "    model.add(Flatten())\n",
    "    model.add(Dense(100, activation='relu'))\n",
    "    model.add(Dense(num_classes, activation='softmax'))\n",
    "    \n",
    "    # Compile model\n",
    "    model.compile(optimizer='adam', loss='categorical_crossentropy',  metrics=['accuracy'])\n",
    "    return model"
   ]
  },
  {
   "cell_type": "markdown",
   "metadata": {},
   "source": [
    "Now, let's call the function to create our new convolutional neural network, and then let's train it and evaluate it."
   ]
  },
  {
   "cell_type": "code",
   "execution_count": 11,
   "metadata": {},
   "outputs": [
    {
     "name": "stdout",
     "output_type": "stream",
     "text": [
      "Train on 60000 samples, validate on 10000 samples\n",
      "Epoch 1/10\n",
      "60000/60000 [==============================] - 8s 129us/step - loss: 0.4840 - accuracy: 0.8611 - val_loss: 0.1490 - val_accuracy: 0.9554\n",
      "Epoch 2/10\n",
      "60000/60000 [==============================] - 7s 125us/step - loss: 0.1305 - accuracy: 0.9611 - val_loss: 0.0866 - val_accuracy: 0.9737\n",
      "Epoch 3/10\n",
      "60000/60000 [==============================] - 7s 125us/step - loss: 0.0930 - accuracy: 0.9712 - val_loss: 0.0732 - val_accuracy: 0.9765\n",
      "Epoch 4/10\n",
      "60000/60000 [==============================] - 7s 124us/step - loss: 0.0749 - accuracy: 0.9772 - val_loss: 0.0585 - val_accuracy: 0.9812\n",
      "Epoch 5/10\n",
      "60000/60000 [==============================] - 7s 123us/step - loss: 0.0629 - accuracy: 0.9803 - val_loss: 0.0502 - val_accuracy: 0.9844\n",
      "Epoch 6/10\n",
      "60000/60000 [==============================] - 7s 124us/step - loss: 0.0550 - accuracy: 0.9830 - val_loss: 0.0468 - val_accuracy: 0.9850\n",
      "Epoch 7/10\n",
      "60000/60000 [==============================] - 7s 124us/step - loss: 0.0486 - accuracy: 0.9849 - val_loss: 0.0487 - val_accuracy: 0.9843\n",
      "Epoch 8/10\n",
      "60000/60000 [==============================] - 7s 123us/step - loss: 0.0439 - accuracy: 0.9866 - val_loss: 0.0401 - val_accuracy: 0.9873\n",
      "Epoch 9/10\n",
      "60000/60000 [==============================] - 7s 123us/step - loss: 0.0395 - accuracy: 0.9880 - val_loss: 0.0380 - val_accuracy: 0.9870\n",
      "Epoch 10/10\n",
      "60000/60000 [==============================] - 7s 123us/step - loss: 0.0360 - accuracy: 0.9886 - val_loss: 0.0373 - val_accuracy: 0.9877\n",
      "10000/10000 [==============================] - 0s 33us/step\n",
      "Accuracy: 0.9876999855041504 \n",
      " Error: 1.230001449584961\n"
     ]
    }
   ],
   "source": [
    "# build the model\n",
    "model = convolutional_model()\n",
    "\n",
    "# fit the model \n",
    "model.fit(X_train, y_train, validation_data=(X_test, y_test), epochs=10, batch_size=200, verbose=1)\n",
    "\n",
    "# evaluate the model\n",
    "scores = model.evaluate(X_test, y_test, verbose=1)\n",
    "print(\"Accuracy: {} \\n Error: {}\".format(scores[1], 100-scores[1]*100))"
   ]
  },
  {
   "cell_type": "markdown",
   "metadata": {},
   "source": [
    "### Thank you for completing this lab!\n",
    "\n",
    "This notebook was created by [Alex Aklson](https://www.linkedin.com/in/aklson/). I hope you found this lab interesting and educational. Feel free to contact me if you have any questions!"
   ]
  },
  {
   "cell_type": "markdown",
   "metadata": {},
   "source": [
    "This notebook is part of a course on **Coursera** called *Introduction to Deep Learning & Neural Networks with Keras*. If you accessed this notebook outside the course, you can take this course online by clicking [here](https://cocl.us/DL0101EN_Coursera_Week4_LAB1)."
   ]
  },
  {
   "cell_type": "markdown",
   "metadata": {},
   "source": [
    "<hr>\n",
    "\n",
    "Copyright &copy; 2019 [IBM Developer Skills Network](https://cognitiveclass.ai/?utm_source=bducopyrightlink&utm_medium=dswb&utm_campaign=bdu). This notebook and its source code are released under the terms of the [MIT License](https://bigdatauniversity.com/mit-license/)."
   ]
  }
 ],
 "metadata": {
  "kernelspec": {
   "display_name": "Python 3",
   "language": "python",
   "name": "python3"
  },
  "language_info": {
   "codemirror_mode": {
    "name": "ipython",
    "version": 3
   },
   "file_extension": ".py",
   "mimetype": "text/x-python",
   "name": "python",
   "nbconvert_exporter": "python",
   "pygments_lexer": "ipython3",
   "version": "3.7.4"
  }
 },
 "nbformat": 4,
 "nbformat_minor": 4
}
