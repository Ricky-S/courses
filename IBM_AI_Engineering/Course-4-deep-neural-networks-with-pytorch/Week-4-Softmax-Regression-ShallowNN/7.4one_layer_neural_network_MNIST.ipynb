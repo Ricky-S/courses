{
 "cells": [
  {
   "cell_type": "markdown",
   "metadata": {},
   "source": [
    "<a href=\"http://cocl.us/pytorch_link_top\">\n",
    "    <img src=\"https://s3-api.us-geo.objectstorage.softlayer.net/cf-courses-data/CognitiveClass/DL0110EN/notebook_images%20/Pytochtop.png\" width=\"750\" alt=\"IBM Product \" />\n",
    "</a> "
   ]
  },
  {
   "cell_type": "markdown",
   "metadata": {},
   "source": [
    "<img src=\"https://s3-api.us-geo.objectstorage.softlayer.net/cf-courses-data/CognitiveClass/DL0110EN/notebook_images%20/cc-logo-square.png\" width=\"200\" alt=\"cognitiveclass.ai logo\" />"
   ]
  },
  {
   "cell_type": "markdown",
   "metadata": {},
   "source": [
    "<h1>Neural Networks with One Hidden Layer</h1>"
   ]
  },
  {
   "cell_type": "markdown",
   "metadata": {},
   "source": [
    "<h2>Table of Contents</h2>\n",
    "<p>In this lab, you will use a single layer neural network to classify handwritten digits from the MNIST database.</p>\n",
    "\n",
    "<ul>\n",
    "    <li><a href=\"#Model\">Neural Network Module and Training Function</a></li>\n",
    "    <li><a href=\"#Makeup_Data\">Make Some Data</a></li>\n",
    "    <li><a href=\"#Train\">Define the Neural Network, Optimizer, and Train the  Model</a></li>\n",
    "    <li><a href=\"#Result\">Analyze Results</a></li>\n",
    "</ul>\n",
    "<p>Estimated Time Needed: <strong>25 min</strong></p>\n",
    "\n",
    "<hr>"
   ]
  },
  {
   "cell_type": "markdown",
   "metadata": {},
   "source": [
    "<h2>Preparation</h2>"
   ]
  },
  {
   "cell_type": "markdown",
   "metadata": {},
   "source": [
    "We'll need the following libraries"
   ]
  },
  {
   "cell_type": "code",
   "execution_count": 1,
   "metadata": {},
   "outputs": [],
   "source": [
    "# Import the libraries we need for this lab\n",
    "\n",
    "# Using the following line code to install the torchvision library\n",
    "# !conda install -y torchvision\n",
    "\n",
    "import torch \n",
    "import torch.nn as nn\n",
    "import torchvision.transforms as transforms\n",
    "import torchvision.datasets as dsets\n",
    "import torch.nn.functional as F\n",
    "import matplotlib.pylab as plt\n",
    "import numpy as np"
   ]
  },
  {
   "cell_type": "markdown",
   "metadata": {},
   "source": [
    "Use the following helper functions for plotting the loss: "
   ]
  },
  {
   "cell_type": "code",
   "execution_count": 2,
   "metadata": {},
   "outputs": [],
   "source": [
    "# Define a function to plot accuracy and loss\n",
    "\n",
    "def plot_accuracy_loss(training_results): \n",
    "    plt.subplot(2, 1, 1)\n",
    "    plt.plot(training_results['training_loss'], 'r')\n",
    "    plt.ylabel('loss')\n",
    "    plt.title('training loss iterations')\n",
    "    plt.subplot(2, 1, 2)\n",
    "    plt.plot(training_results['validation_accuracy'])\n",
    "    plt.ylabel('accuracy')\n",
    "    plt.xlabel('epochs')   \n",
    "    plt.show()"
   ]
  },
  {
   "cell_type": "markdown",
   "metadata": {},
   "source": [
    "Use the following function for printing the model parameters: "
   ]
  },
  {
   "cell_type": "code",
   "execution_count": 3,
   "metadata": {},
   "outputs": [],
   "source": [
    "# Define a function to plot model parameters\n",
    "\n",
    "def print_model_parameters(model):\n",
    "    count = 0\n",
    "    for ele in model.state_dict():\n",
    "        count += 1\n",
    "        if count % 2 != 0:\n",
    "            print (\"The following are the parameters for the layer \", count // 2 + 1)\n",
    "        if ele.find(\"bias\") != -1:\n",
    "            print(\"The size of bias: \", model.state_dict()[ele].size())\n",
    "        else:\n",
    "            print(\"The size of weights: \", model.state_dict()[ele].size())"
   ]
  },
  {
   "cell_type": "markdown",
   "metadata": {},
   "source": [
    "Define the neural network module or class: "
   ]
  },
  {
   "cell_type": "code",
   "execution_count": 4,
   "metadata": {},
   "outputs": [],
   "source": [
    "# Define a function to display data\n",
    "\n",
    "def show_data(data_sample):\n",
    "    plt.imshow(data_sample.numpy().reshape(28, 28), cmap='gray')\n",
    "    plt.show()"
   ]
  },
  {
   "cell_type": "markdown",
   "metadata": {},
   "source": [
    "<!--Empty Space for separating topics-->"
   ]
  },
  {
   "cell_type": "markdown",
   "metadata": {},
   "source": [
    "<h2 id=\"Model\">Neural Network Module and Training Function</h2> "
   ]
  },
  {
   "cell_type": "markdown",
   "metadata": {},
   "source": [
    "Define the neural network module or class: "
   ]
  },
  {
   "cell_type": "code",
   "execution_count": 5,
   "metadata": {},
   "outputs": [],
   "source": [
    "# Define a Neural Network class\n",
    "\n",
    "class Net(nn.Module):\n",
    "    \n",
    "    # Constructor\n",
    "    def __init__(self, D_in, H, D_out):\n",
    "        super(Net, self).__init__()\n",
    "        self.linear1 = nn.Linear(D_in, H)\n",
    "        self.linear2 = nn.Linear(H, D_out)\n",
    "\n",
    "    # Prediction    \n",
    "    def forward(self, x):\n",
    "        x = torch.sigmoid(self.linear1(x))  \n",
    "        x = self.linear2(x)\n",
    "        return x"
   ]
  },
  {
   "cell_type": "markdown",
   "metadata": {},
   "source": [
    "Define a function to train the model. In this case, the function returns a Python dictionary to store the training loss and accuracy on the validation data. "
   ]
  },
  {
   "cell_type": "code",
   "execution_count": 20,
   "metadata": {},
   "outputs": [],
   "source": [
    "# Define a training function to train the model\n",
    "\n",
    "def train(model, criterion, train_loader, validation_loader, optimizer, epochs=100):\n",
    "    i = 0\n",
    "    # store training loss and validation acc\n",
    "    useful_stuff = {'training_loss': [],'validation_accuracy': []}  \n",
    "    for epoch in range(epochs):\n",
    "        for i, (x, y) in enumerate(train_loader): \n",
    "            optimizer.zero_grad()\n",
    "            z = model(x.view(-1, 28 * 28))\n",
    "            loss = criterion(z, y)\n",
    "            loss.backward()\n",
    "            optimizer.step()\n",
    "             #training loss for every iteration\n",
    "            print('epoch:'+str(epoch) +'iteration:'+str(i) +'/training_loss',(loss.data.item()))\n",
    "            useful_stuff['training_loss'].append(loss.data.item())\n",
    "        correct = 0\n",
    "        for x, y in validation_loader:\n",
    "            #validation \n",
    "            z = model(x.view(-1, 28 * 28))\n",
    "            # calculate acc on validation data for each epoch\n",
    "            _, label = torch.max(z, 1)\n",
    "            correct += (label == y).sum().item()\n",
    "        accuracy = 100 * (correct / len(validation_dataset))\n",
    "        print('validation_accuracy',(accuracy))\n",
    "        useful_stuff['validation_accuracy'].append(accuracy)\n",
    "    return useful_stuff"
   ]
  },
  {
   "cell_type": "markdown",
   "metadata": {},
   "source": [
    "<!--Empty Space for separating topics-->"
   ]
  },
  {
   "cell_type": "markdown",
   "metadata": {},
   "source": [
    "<h2 id=\"Makeup_Data\">Make Some Data</h2> "
   ]
  },
  {
   "cell_type": "markdown",
   "metadata": {},
   "source": [
    "Load the training dataset by setting the parameters <code>train</code> to <code>True</code> and convert it to a tensor by placing a transform object in the argument <code>transform</code>."
   ]
  },
  {
   "cell_type": "code",
   "execution_count": 6,
   "metadata": {},
   "outputs": [],
   "source": [
    "# Create training dataset\n",
    "\n",
    "train_dataset = dsets.MNIST(root='./data', train=True, download=True, transform=transforms.ToTensor())"
   ]
  },
  {
   "cell_type": "markdown",
   "metadata": {},
   "source": [
    "Load the testing dataset by setting the parameters <code>train</code> to <code>False</code> and convert it to a tensor by placing a transform object in the argument <code>transform</code>:"
   ]
  },
  {
   "cell_type": "code",
   "execution_count": 7,
   "metadata": {},
   "outputs": [],
   "source": [
    "# Create validating dataset\n",
    "\n",
    "validation_dataset = dsets.MNIST(root='./data', train=False, download=True, transform=transforms.ToTensor())"
   ]
  },
  {
   "cell_type": "markdown",
   "metadata": {},
   "source": [
    "Create the criterion function:  "
   ]
  },
  {
   "cell_type": "code",
   "execution_count": 8,
   "metadata": {},
   "outputs": [],
   "source": [
    "# Create criterion function\n",
    "\n",
    "criterion = nn.CrossEntropyLoss()"
   ]
  },
  {
   "cell_type": "markdown",
   "metadata": {},
   "source": [
    "Create the training-data loader and the validation-data loader objects: "
   ]
  },
  {
   "cell_type": "code",
   "execution_count": 9,
   "metadata": {},
   "outputs": [],
   "source": [
    "# Create data loader for both train dataset and valdiate dataset\n",
    "\n",
    "train_loader = torch.utils.data.DataLoader(dataset=train_dataset, batch_size=2000, shuffle=True)\n",
    "validation_loader = torch.utils.data.DataLoader(dataset=validation_dataset, batch_size=5000, shuffle=False)"
   ]
  },
  {
   "cell_type": "markdown",
   "metadata": {},
   "source": [
    "<!--Empty Space for separating topics-->"
   ]
  },
  {
   "cell_type": "markdown",
   "metadata": {},
   "source": [
    "<h2 id=\"Train\">Define the Neural Network, Optimizer, and Train the Model</h2> "
   ]
  },
  {
   "cell_type": "markdown",
   "metadata": {},
   "source": [
    "Create the model with 100 neurons: "
   ]
  },
  {
   "cell_type": "code",
   "execution_count": 10,
   "metadata": {},
   "outputs": [],
   "source": [
    "# Create the model with 100 neurons\n",
    "\n",
    "input_dim = 28 * 28\n",
    "hidden_dim = 100\n",
    "output_dim = 10\n",
    "\n",
    "model = Net(input_dim, hidden_dim, output_dim)"
   ]
  },
  {
   "cell_type": "markdown",
   "metadata": {},
   "source": [
    "Print the model parameters: "
   ]
  },
  {
   "cell_type": "code",
   "execution_count": 11,
   "metadata": {},
   "outputs": [
    {
     "name": "stdout",
     "output_type": "stream",
     "text": [
      "The following are the parameters for the layer  1\n",
      "The size of weights:  torch.Size([100, 784])\n",
      "The size of bias:  torch.Size([100])\n",
      "The following are the parameters for the layer  2\n",
      "The size of weights:  torch.Size([10, 100])\n",
      "The size of bias:  torch.Size([10])\n"
     ]
    }
   ],
   "source": [
    "# Print the parameters for model\n",
    "\n",
    "print_model_parameters(model)"
   ]
  },
  {
   "cell_type": "markdown",
   "metadata": {},
   "source": [
    "Define the optimizer object with a learning rate of 0.01: "
   ]
  },
  {
   "cell_type": "code",
   "execution_count": 12,
   "metadata": {},
   "outputs": [],
   "source": [
    "# Set the learning rate and the optimizer\n",
    "\n",
    "learning_rate = 0.01\n",
    "optimizer = torch.optim.SGD(model.parameters(), lr=learning_rate)"
   ]
  },
  {
   "cell_type": "markdown",
   "metadata": {},
   "source": [
    "Train the model by using 100 epochs **(this process takes time)**: "
   ]
  },
  {
   "cell_type": "code",
   "execution_count": 21,
   "metadata": {},
   "outputs": [
    {
     "name": "stdout",
     "output_type": "stream",
     "text": [
      "epoch:0iteration:0/training_loss 1.8270171880722046\n",
      "epoch:0iteration:1/training_loss 1.8471355438232422\n",
      "epoch:0iteration:2/training_loss 1.842639446258545\n",
      "epoch:0iteration:3/training_loss 1.845165729522705\n",
      "epoch:0iteration:4/training_loss 1.8320889472961426\n",
      "epoch:0iteration:5/training_loss 1.8400930166244507\n",
      "epoch:0iteration:6/training_loss 1.8423783779144287\n",
      "epoch:0iteration:7/training_loss 1.8300819396972656\n",
      "epoch:0iteration:8/training_loss 1.84334135055542\n",
      "epoch:0iteration:9/training_loss 1.839808464050293\n",
      "epoch:0iteration:10/training_loss 1.8330849409103394\n",
      "epoch:0iteration:11/training_loss 1.8358572721481323\n",
      "epoch:0iteration:12/training_loss 1.84005606174469\n",
      "epoch:0iteration:13/training_loss 1.8482134342193604\n",
      "epoch:0iteration:14/training_loss 1.8232526779174805\n",
      "epoch:0iteration:15/training_loss 1.8511877059936523\n",
      "epoch:0iteration:16/training_loss 1.8301405906677246\n",
      "epoch:0iteration:17/training_loss 1.8371696472167969\n",
      "epoch:0iteration:18/training_loss 1.8290772438049316\n",
      "epoch:0iteration:19/training_loss 1.8172504901885986\n",
      "epoch:0iteration:20/training_loss 1.8345787525177002\n",
      "epoch:0iteration:21/training_loss 1.8318825960159302\n",
      "epoch:0iteration:22/training_loss 1.8346779346466064\n",
      "epoch:0iteration:23/training_loss 1.8228768110275269\n",
      "epoch:0iteration:24/training_loss 1.8357844352722168\n",
      "epoch:0iteration:25/training_loss 1.8261058330535889\n",
      "epoch:0iteration:26/training_loss 1.8186451196670532\n",
      "epoch:0iteration:27/training_loss 1.8330315351486206\n",
      "epoch:0iteration:28/training_loss 1.8162446022033691\n",
      "epoch:0iteration:29/training_loss 1.8222317695617676\n",
      "validation_accuracy 68.17999999999999\n",
      "epoch:1iteration:0/training_loss 1.8259629011154175\n",
      "epoch:1iteration:1/training_loss 1.8205922842025757\n",
      "epoch:1iteration:2/training_loss 1.819282054901123\n",
      "epoch:1iteration:3/training_loss 1.8114022016525269\n",
      "epoch:1iteration:4/training_loss 1.817124843597412\n",
      "epoch:1iteration:5/training_loss 1.8104093074798584\n",
      "epoch:1iteration:6/training_loss 1.8271523714065552\n",
      "epoch:1iteration:7/training_loss 1.8184187412261963\n",
      "epoch:1iteration:8/training_loss 1.81472647190094\n",
      "epoch:1iteration:9/training_loss 1.8122791051864624\n",
      "epoch:1iteration:10/training_loss 1.8135790824890137\n",
      "epoch:1iteration:11/training_loss 1.8250669240951538\n",
      "epoch:1iteration:12/training_loss 1.8281046152114868\n",
      "epoch:1iteration:13/training_loss 1.81436026096344\n",
      "epoch:1iteration:14/training_loss 1.8213951587677002\n",
      "epoch:1iteration:15/training_loss 1.8184254169464111\n",
      "epoch:1iteration:16/training_loss 1.8095217943191528\n",
      "epoch:1iteration:17/training_loss 1.815652847290039\n",
      "epoch:1iteration:18/training_loss 1.809731364250183\n",
      "epoch:1iteration:19/training_loss 1.8276360034942627\n",
      "epoch:1iteration:20/training_loss 1.8102339506149292\n",
      "epoch:1iteration:21/training_loss 1.8179652690887451\n",
      "epoch:1iteration:22/training_loss 1.8019218444824219\n",
      "epoch:1iteration:23/training_loss 1.7997750043869019\n",
      "epoch:1iteration:24/training_loss 1.810190200805664\n",
      "epoch:1iteration:25/training_loss 1.8035614490509033\n",
      "epoch:1iteration:26/training_loss 1.8031524419784546\n",
      "epoch:1iteration:27/training_loss 1.8133407831192017\n",
      "epoch:1iteration:28/training_loss 1.809254765510559\n",
      "epoch:1iteration:29/training_loss 1.806526780128479\n",
      "validation_accuracy 68.81\n",
      "epoch:2iteration:0/training_loss 1.8055742979049683\n",
      "epoch:2iteration:1/training_loss 1.8004398345947266\n",
      "epoch:2iteration:2/training_loss 1.7934058904647827\n",
      "epoch:2iteration:3/training_loss 1.811471700668335\n",
      "epoch:2iteration:4/training_loss 1.7896286249160767\n",
      "epoch:2iteration:5/training_loss 1.8071200847625732\n",
      "epoch:2iteration:6/training_loss 1.7990074157714844\n",
      "epoch:2iteration:7/training_loss 1.7910665273666382\n",
      "epoch:2iteration:8/training_loss 1.8203967809677124\n",
      "epoch:2iteration:9/training_loss 1.81289803981781\n",
      "epoch:2iteration:10/training_loss 1.7954716682434082\n",
      "epoch:2iteration:11/training_loss 1.7846310138702393\n",
      "epoch:2iteration:12/training_loss 1.7819170951843262\n",
      "epoch:2iteration:13/training_loss 1.7989147901535034\n",
      "epoch:2iteration:14/training_loss 1.811058521270752\n",
      "epoch:2iteration:15/training_loss 1.8021105527877808\n",
      "epoch:2iteration:16/training_loss 1.7972089052200317\n",
      "epoch:2iteration:17/training_loss 1.7840911149978638\n",
      "epoch:2iteration:18/training_loss 1.7961716651916504\n",
      "epoch:2iteration:19/training_loss 1.79668390750885\n",
      "epoch:2iteration:20/training_loss 1.800254225730896\n",
      "epoch:2iteration:21/training_loss 1.787165641784668\n",
      "epoch:2iteration:22/training_loss 1.777803897857666\n",
      "epoch:2iteration:23/training_loss 1.7844362258911133\n",
      "epoch:2iteration:24/training_loss 1.7932651042938232\n",
      "epoch:2iteration:25/training_loss 1.8001090288162231\n",
      "epoch:2iteration:26/training_loss 1.7767239809036255\n",
      "epoch:2iteration:27/training_loss 1.7894976139068604\n",
      "epoch:2iteration:28/training_loss 1.7930814027786255\n",
      "epoch:2iteration:29/training_loss 1.7738856077194214\n",
      "validation_accuracy 69.11\n",
      "epoch:3iteration:0/training_loss 1.7832772731781006\n",
      "epoch:3iteration:1/training_loss 1.7765238285064697\n",
      "epoch:3iteration:2/training_loss 1.776824712753296\n",
      "epoch:3iteration:3/training_loss 1.7883787155151367\n",
      "epoch:3iteration:4/training_loss 1.790673017501831\n",
      "epoch:3iteration:5/training_loss 1.7782334089279175\n",
      "epoch:3iteration:6/training_loss 1.7789649963378906\n",
      "epoch:3iteration:7/training_loss 1.7775990962982178\n",
      "epoch:3iteration:8/training_loss 1.7775027751922607\n",
      "epoch:3iteration:9/training_loss 1.7916730642318726\n",
      "epoch:3iteration:10/training_loss 1.7666125297546387\n",
      "epoch:3iteration:11/training_loss 1.7815700769424438\n",
      "epoch:3iteration:12/training_loss 1.7874113321304321\n",
      "epoch:3iteration:13/training_loss 1.7792984247207642\n",
      "epoch:3iteration:14/training_loss 1.7733792066574097\n",
      "epoch:3iteration:15/training_loss 1.7853339910507202\n",
      "epoch:3iteration:16/training_loss 1.7668081521987915\n",
      "epoch:3iteration:17/training_loss 1.7737528085708618\n",
      "epoch:3iteration:18/training_loss 1.7762541770935059\n",
      "epoch:3iteration:19/training_loss 1.7613738775253296\n",
      "epoch:3iteration:20/training_loss 1.7801254987716675\n",
      "epoch:3iteration:21/training_loss 1.763398289680481\n",
      "epoch:3iteration:22/training_loss 1.7674152851104736\n",
      "epoch:3iteration:23/training_loss 1.7654248476028442\n",
      "epoch:3iteration:24/training_loss 1.7858803272247314\n",
      "epoch:3iteration:25/training_loss 1.7533581256866455\n",
      "epoch:3iteration:26/training_loss 1.7692508697509766\n",
      "epoch:3iteration:27/training_loss 1.7732913494110107\n",
      "epoch:3iteration:28/training_loss 1.7749911546707153\n",
      "epoch:3iteration:29/training_loss 1.7635407447814941\n",
      "validation_accuracy 69.71000000000001\n",
      "epoch:4iteration:0/training_loss 1.7512352466583252\n",
      "epoch:4iteration:1/training_loss 1.7636606693267822\n",
      "epoch:4iteration:2/training_loss 1.767356038093567\n",
      "epoch:4iteration:3/training_loss 1.7645713090896606\n",
      "epoch:4iteration:4/training_loss 1.764575719833374\n",
      "epoch:4iteration:5/training_loss 1.7453105449676514\n",
      "epoch:4iteration:6/training_loss 1.768437385559082\n",
      "epoch:4iteration:7/training_loss 1.7808476686477661\n",
      "epoch:4iteration:8/training_loss 1.7632158994674683\n",
      "epoch:4iteration:9/training_loss 1.7493603229522705\n",
      "epoch:4iteration:10/training_loss 1.7527482509613037\n",
      "epoch:4iteration:11/training_loss 1.753822684288025\n",
      "epoch:4iteration:12/training_loss 1.758137822151184\n",
      "epoch:4iteration:13/training_loss 1.7478588819503784\n",
      "epoch:4iteration:14/training_loss 1.7532317638397217\n",
      "epoch:4iteration:15/training_loss 1.7590535879135132\n",
      "epoch:4iteration:16/training_loss 1.7609212398529053\n",
      "epoch:4iteration:17/training_loss 1.7563365697860718\n",
      "epoch:4iteration:18/training_loss 1.7429687976837158\n",
      "epoch:4iteration:19/training_loss 1.7483391761779785\n",
      "epoch:4iteration:20/training_loss 1.741163969039917\n",
      "epoch:4iteration:21/training_loss 1.7523382902145386\n",
      "epoch:4iteration:22/training_loss 1.7473669052124023\n",
      "epoch:4iteration:23/training_loss 1.7680407762527466\n",
      "epoch:4iteration:24/training_loss 1.748351812362671\n",
      "epoch:4iteration:25/training_loss 1.7511907815933228\n",
      "epoch:4iteration:26/training_loss 1.7550572156906128\n",
      "epoch:4iteration:27/training_loss 1.7544196844100952\n",
      "epoch:4iteration:28/training_loss 1.7453398704528809\n",
      "epoch:4iteration:29/training_loss 1.7602062225341797\n",
      "validation_accuracy 70.14\n",
      "epoch:5iteration:0/training_loss 1.7451432943344116\n",
      "epoch:5iteration:1/training_loss 1.7385135889053345\n",
      "epoch:5iteration:2/training_loss 1.7476192712783813\n"
     ]
    },
    {
     "name": "stdout",
     "output_type": "stream",
     "text": [
      "epoch:5iteration:3/training_loss 1.7438600063323975\n",
      "epoch:5iteration:4/training_loss 1.7424280643463135\n",
      "epoch:5iteration:5/training_loss 1.751866102218628\n",
      "epoch:5iteration:6/training_loss 1.7384734153747559\n",
      "epoch:5iteration:7/training_loss 1.734724760055542\n",
      "epoch:5iteration:8/training_loss 1.7393516302108765\n",
      "epoch:5iteration:9/training_loss 1.7305408716201782\n",
      "epoch:5iteration:10/training_loss 1.7252388000488281\n",
      "epoch:5iteration:11/training_loss 1.7468973398208618\n",
      "epoch:5iteration:12/training_loss 1.741872787475586\n",
      "epoch:5iteration:13/training_loss 1.7471591234207153\n",
      "epoch:5iteration:14/training_loss 1.7350064516067505\n",
      "epoch:5iteration:15/training_loss 1.726318120956421\n",
      "epoch:5iteration:16/training_loss 1.7475025653839111\n",
      "epoch:5iteration:17/training_loss 1.7441614866256714\n",
      "epoch:5iteration:18/training_loss 1.7435503005981445\n",
      "epoch:5iteration:19/training_loss 1.7224048376083374\n",
      "epoch:5iteration:20/training_loss 1.7393783330917358\n",
      "epoch:5iteration:21/training_loss 1.7310817241668701\n",
      "epoch:5iteration:22/training_loss 1.7314844131469727\n",
      "epoch:5iteration:23/training_loss 1.7181583642959595\n",
      "epoch:5iteration:24/training_loss 1.7186331748962402\n",
      "epoch:5iteration:25/training_loss 1.7280205488204956\n",
      "epoch:5iteration:26/training_loss 1.7247774600982666\n",
      "epoch:5iteration:27/training_loss 1.7317287921905518\n",
      "epoch:5iteration:28/training_loss 1.7323570251464844\n",
      "epoch:5iteration:29/training_loss 1.7304754257202148\n",
      "validation_accuracy 70.53\n",
      "epoch:6iteration:0/training_loss 1.722900152206421\n",
      "epoch:6iteration:1/training_loss 1.7341830730438232\n",
      "epoch:6iteration:2/training_loss 1.7173120975494385\n",
      "epoch:6iteration:3/training_loss 1.7133872509002686\n",
      "epoch:6iteration:4/training_loss 1.71712327003479\n",
      "epoch:6iteration:5/training_loss 1.7210208177566528\n",
      "epoch:6iteration:6/training_loss 1.728301763534546\n",
      "epoch:6iteration:7/training_loss 1.7130956649780273\n",
      "epoch:6iteration:8/training_loss 1.7125948667526245\n",
      "epoch:6iteration:9/training_loss 1.735801100730896\n",
      "epoch:6iteration:10/training_loss 1.7242032289505005\n",
      "epoch:6iteration:11/training_loss 1.7214348316192627\n",
      "epoch:6iteration:12/training_loss 1.7045985460281372\n",
      "epoch:6iteration:13/training_loss 1.7303028106689453\n",
      "epoch:6iteration:14/training_loss 1.7088323831558228\n",
      "epoch:6iteration:15/training_loss 1.7249358892440796\n",
      "epoch:6iteration:16/training_loss 1.7193070650100708\n",
      "epoch:6iteration:17/training_loss 1.7144923210144043\n",
      "epoch:6iteration:18/training_loss 1.7147961854934692\n",
      "epoch:6iteration:19/training_loss 1.7157740592956543\n",
      "epoch:6iteration:20/training_loss 1.7145025730133057\n",
      "epoch:6iteration:21/training_loss 1.7026314735412598\n",
      "epoch:6iteration:22/training_loss 1.704423189163208\n",
      "epoch:6iteration:23/training_loss 1.7155619859695435\n",
      "epoch:6iteration:24/training_loss 1.7089910507202148\n",
      "epoch:6iteration:25/training_loss 1.6941426992416382\n",
      "epoch:6iteration:26/training_loss 1.7107938528060913\n",
      "epoch:6iteration:27/training_loss 1.71377694606781\n",
      "epoch:6iteration:28/training_loss 1.7042838335037231\n",
      "epoch:6iteration:29/training_loss 1.7150869369506836\n",
      "validation_accuracy 70.94\n",
      "epoch:7iteration:0/training_loss 1.694221019744873\n",
      "epoch:7iteration:1/training_loss 1.7048968076705933\n",
      "epoch:7iteration:2/training_loss 1.712419033050537\n",
      "epoch:7iteration:3/training_loss 1.704437494277954\n",
      "epoch:7iteration:4/training_loss 1.7149991989135742\n",
      "epoch:7iteration:5/training_loss 1.706015944480896\n",
      "epoch:7iteration:6/training_loss 1.6941250562667847\n",
      "epoch:7iteration:7/training_loss 1.7094080448150635\n",
      "epoch:7iteration:8/training_loss 1.6968942880630493\n",
      "epoch:7iteration:9/training_loss 1.691328763961792\n",
      "epoch:7iteration:10/training_loss 1.7125593423843384\n",
      "epoch:7iteration:11/training_loss 1.6884315013885498\n",
      "epoch:7iteration:12/training_loss 1.6972025632858276\n",
      "epoch:7iteration:13/training_loss 1.702825665473938\n",
      "epoch:7iteration:14/training_loss 1.6787645816802979\n",
      "epoch:7iteration:15/training_loss 1.6919043064117432\n",
      "epoch:7iteration:16/training_loss 1.6953551769256592\n",
      "epoch:7iteration:17/training_loss 1.7029701471328735\n",
      "epoch:7iteration:18/training_loss 1.6922698020935059\n",
      "epoch:7iteration:19/training_loss 1.705223798751831\n",
      "epoch:7iteration:20/training_loss 1.6903822422027588\n",
      "epoch:7iteration:21/training_loss 1.694891095161438\n",
      "epoch:7iteration:22/training_loss 1.687672734260559\n",
      "epoch:7iteration:23/training_loss 1.704551339149475\n",
      "epoch:7iteration:24/training_loss 1.6851307153701782\n",
      "epoch:7iteration:25/training_loss 1.6747901439666748\n",
      "epoch:7iteration:26/training_loss 1.6904926300048828\n",
      "epoch:7iteration:27/training_loss 1.6847072839736938\n",
      "epoch:7iteration:28/training_loss 1.684439778327942\n",
      "epoch:7iteration:29/training_loss 1.6827908754348755\n",
      "validation_accuracy 71.31\n",
      "epoch:8iteration:0/training_loss 1.6918083429336548\n",
      "epoch:8iteration:1/training_loss 1.6785888671875\n",
      "epoch:8iteration:2/training_loss 1.6948095560073853\n",
      "epoch:8iteration:3/training_loss 1.672769546508789\n",
      "epoch:8iteration:4/training_loss 1.6856279373168945\n",
      "epoch:8iteration:5/training_loss 1.7048507928848267\n",
      "epoch:8iteration:6/training_loss 1.6854395866394043\n",
      "epoch:8iteration:7/training_loss 1.6721490621566772\n",
      "epoch:8iteration:8/training_loss 1.6666449308395386\n",
      "epoch:8iteration:9/training_loss 1.6850210428237915\n",
      "epoch:8iteration:10/training_loss 1.6928818225860596\n",
      "epoch:8iteration:11/training_loss 1.6781258583068848\n",
      "epoch:8iteration:12/training_loss 1.6661220788955688\n",
      "epoch:8iteration:13/training_loss 1.6724928617477417\n",
      "epoch:8iteration:14/training_loss 1.6790227890014648\n",
      "epoch:8iteration:15/training_loss 1.680750846862793\n",
      "epoch:8iteration:16/training_loss 1.6721012592315674\n",
      "epoch:8iteration:17/training_loss 1.6851494312286377\n",
      "epoch:8iteration:18/training_loss 1.6729744672775269\n",
      "epoch:8iteration:19/training_loss 1.6663225889205933\n",
      "epoch:8iteration:20/training_loss 1.6764777898788452\n",
      "epoch:8iteration:21/training_loss 1.6724194288253784\n",
      "epoch:8iteration:22/training_loss 1.6666160821914673\n",
      "epoch:8iteration:23/training_loss 1.661362886428833\n",
      "epoch:8iteration:24/training_loss 1.6648738384246826\n",
      "epoch:8iteration:25/training_loss 1.6629258394241333\n",
      "epoch:8iteration:26/training_loss 1.6744943857192993\n",
      "epoch:8iteration:27/training_loss 1.6660041809082031\n",
      "epoch:8iteration:28/training_loss 1.6525087356567383\n",
      "epoch:8iteration:29/training_loss 1.6704131364822388\n",
      "validation_accuracy 71.58\n",
      "epoch:9iteration:0/training_loss 1.6642802953720093\n",
      "epoch:9iteration:1/training_loss 1.6724210977554321\n",
      "epoch:9iteration:2/training_loss 1.6658376455307007\n",
      "epoch:9iteration:3/training_loss 1.664739727973938\n",
      "epoch:9iteration:4/training_loss 1.6613842248916626\n",
      "epoch:9iteration:5/training_loss 1.6624302864074707\n",
      "epoch:9iteration:6/training_loss 1.6587719917297363\n",
      "epoch:9iteration:7/training_loss 1.6585073471069336\n",
      "epoch:9iteration:8/training_loss 1.6547383069992065\n",
      "epoch:9iteration:9/training_loss 1.658982515335083\n",
      "epoch:9iteration:10/training_loss 1.6652175188064575\n",
      "epoch:9iteration:11/training_loss 1.6446932554244995\n",
      "epoch:9iteration:12/training_loss 1.6728904247283936\n",
      "epoch:9iteration:13/training_loss 1.6677111387252808\n",
      "epoch:9iteration:14/training_loss 1.6509836912155151\n",
      "epoch:9iteration:15/training_loss 1.649824619293213\n",
      "epoch:9iteration:16/training_loss 1.6592568159103394\n",
      "epoch:9iteration:17/training_loss 1.658719539642334\n",
      "epoch:9iteration:18/training_loss 1.6564134359359741\n",
      "epoch:9iteration:19/training_loss 1.6534743309020996\n",
      "epoch:9iteration:20/training_loss 1.6454949378967285\n",
      "epoch:9iteration:21/training_loss 1.660428524017334\n",
      "epoch:9iteration:22/training_loss 1.6404902935028076\n",
      "epoch:9iteration:23/training_loss 1.6570242643356323\n",
      "epoch:9iteration:24/training_loss 1.6471203565597534\n",
      "epoch:9iteration:25/training_loss 1.6469873189926147\n",
      "epoch:9iteration:26/training_loss 1.6513636112213135\n",
      "epoch:9iteration:27/training_loss 1.6328883171081543\n",
      "epoch:9iteration:28/training_loss 1.6425807476043701\n",
      "epoch:9iteration:29/training_loss 1.641045093536377\n",
      "validation_accuracy 71.97\n"
     ]
    }
   ],
   "source": [
    "# Train the model\n",
    "\n",
    "training_results = train(model, criterion, train_loader, validation_loader, optimizer, epochs=10)"
   ]
  },
  {
   "cell_type": "markdown",
   "metadata": {},
   "source": [
    "<!--Empty Space for separating topics-->"
   ]
  },
  {
   "cell_type": "markdown",
   "metadata": {},
   "source": [
    "<h2 id=\"Result\">Analyze Results</h2> "
   ]
  },
  {
   "cell_type": "markdown",
   "metadata": {},
   "source": [
    "Plot the training total loss or cost for every iteration and plot the training accuracy for every epoch:  "
   ]
  },
  {
   "cell_type": "code",
   "execution_count": 22,
   "metadata": {},
   "outputs": [
    {
     "data": {
      "image/png": "[encoded data removed]",
      "text/plain": [
       "<Figure size 432x288 with 2 Axes>"
      ]
     },
     "metadata": {
      "needs_background": "light"
     },
     "output_type": "display_data"
    }
   ],
   "source": [
    "# Plot the accuracy and loss\n",
    "\n",
    "plot_accuracy_loss(training_results)"
   ]
  },
  {
   "cell_type": "markdown",
   "metadata": {},
   "source": [
    "Plot the first five misclassified samples:   "
   ]
  },
  {
   "cell_type": "code",
   "execution_count": 23,
   "metadata": {},
   "outputs": [
    {
     "data": {
      "image/png": "[encoded data removed]",
      "text/plain": [
       "<Figure size 432x288 with 1 Axes>"
      ]
     },
     "metadata": {
      "needs_background": "light"
     },
     "output_type": "display_data"
    },
    {
     "data": {
      "image/png": "[encoded data removed]",
      "text/plain": [
       "<Figure size 432x288 with 1 Axes>"
      ]
     },
     "metadata": {
      "needs_background": "light"
     },
     "output_type": "display_data"
    },
    {
     "data": {
      "image/png": "[encoded data removed]",
      "text/plain": [
       "<Figure size 432x288 with 1 Axes>"
      ]
     },
     "metadata": {
      "needs_background": "light"
     },
     "output_type": "display_data"
    },
    {
     "data": {
      "image/png": "[encoded data removed]",
      "text/plain": [
       "<Figure size 432x288 with 1 Axes>"
      ]
     },
     "metadata": {
      "needs_background": "light"
     },
     "output_type": "display_data"
    },
    {
     "data": {
      "image/png": "[encoded data removed]",
      "text/plain": [
       "<Figure size 432x288 with 1 Axes>"
      ]
     },
     "metadata": {
      "needs_background": "light"
     },
     "output_type": "display_data"
    }
   ],
   "source": [
    "# Plot the first five misclassified samples\n",
    "\n",
    "count = 0\n",
    "for x, y in validation_dataset:\n",
    "    z = model(x.reshape(-1, 28 * 28))\n",
    "    _,yhat = torch.max(z, 1)\n",
    "    if yhat != y:\n",
    "        show_data(x)\n",
    "        count += 1\n",
    "    if count >= 5:\n",
    "        break"
   ]
  },
  {
   "cell_type": "markdown",
   "metadata": {},
   "source": [
    "<h3>Practice</h3> "
   ]
  },
  {
   "cell_type": "markdown",
   "metadata": {},
   "source": [
    "Use <code>nn.Sequential</code> to build exactly the same model as you just built. Use the function <train>train</train> to train the model and use the function <code>plot_accuracy_loss</code> to see the metrics. Also, try different epoch numbers. "
   ]
  },
  {
   "cell_type": "code",
   "execution_count": 24,
   "metadata": {},
   "outputs": [
    {
     "name": "stdout",
     "output_type": "stream",
     "text": [
      "epoch:0iteration:0/training_loss 2.4025180339813232\n",
      "epoch:0iteration:1/training_loss 2.389235019683838\n",
      "epoch:0iteration:2/training_loss 2.3832454681396484\n",
      "epoch:0iteration:3/training_loss 2.3850345611572266\n",
      "epoch:0iteration:4/training_loss 2.374138116836548\n",
      "epoch:0iteration:5/training_loss 2.370234489440918\n",
      "epoch:0iteration:6/training_loss 2.3561925888061523\n",
      "epoch:0iteration:7/training_loss 2.3689992427825928\n",
      "epoch:0iteration:8/training_loss 2.3481719493865967\n",
      "epoch:0iteration:9/training_loss 2.3545055389404297\n",
      "epoch:0iteration:10/training_loss 2.3618857860565186\n",
      "epoch:0iteration:11/training_loss 2.335287094116211\n",
      "epoch:0iteration:12/training_loss 2.3530118465423584\n",
      "epoch:0iteration:13/training_loss 2.3507633209228516\n",
      "epoch:0iteration:14/training_loss 2.332343101501465\n",
      "epoch:0iteration:15/training_loss 2.352407217025757\n",
      "epoch:0iteration:16/training_loss 2.3403234481811523\n",
      "epoch:0iteration:17/training_loss 2.3446805477142334\n",
      "epoch:0iteration:18/training_loss 2.333376407623291\n",
      "epoch:0iteration:19/training_loss 2.331477165222168\n",
      "epoch:0iteration:20/training_loss 2.3296689987182617\n",
      "epoch:0iteration:21/training_loss 2.3216781616210938\n",
      "epoch:0iteration:22/training_loss 2.326331853866577\n",
      "epoch:0iteration:23/training_loss 2.3293612003326416\n",
      "epoch:0iteration:24/training_loss 2.3170785903930664\n",
      "epoch:0iteration:25/training_loss 2.330963134765625\n",
      "epoch:0iteration:26/training_loss 2.316300630569458\n",
      "epoch:0iteration:27/training_loss 2.3081510066986084\n",
      "epoch:0iteration:28/training_loss 2.318094491958618\n",
      "epoch:0iteration:29/training_loss 2.3124661445617676\n",
      "validation_accuracy 10.36\n",
      "epoch:1iteration:0/training_loss 2.3157522678375244\n",
      "epoch:1iteration:1/training_loss 2.318582773208618\n",
      "epoch:1iteration:2/training_loss 2.3102362155914307\n",
      "epoch:1iteration:3/training_loss 2.308777093887329\n",
      "epoch:1iteration:4/training_loss 2.307706594467163\n",
      "epoch:1iteration:5/training_loss 2.3102071285247803\n",
      "epoch:1iteration:6/training_loss 2.3066585063934326\n",
      "epoch:1iteration:7/training_loss 2.302786111831665\n",
      "epoch:1iteration:8/training_loss 2.306161403656006\n",
      "epoch:1iteration:9/training_loss 2.3035364151000977\n",
      "epoch:1iteration:10/training_loss 2.304919481277466\n",
      "epoch:1iteration:11/training_loss 2.3016886711120605\n",
      "epoch:1iteration:12/training_loss 2.30216908454895\n",
      "epoch:1iteration:13/training_loss 2.3050966262817383\n",
      "epoch:1iteration:14/training_loss 2.303563117980957\n",
      "epoch:1iteration:15/training_loss 2.2999532222747803\n",
      "epoch:1iteration:16/training_loss 2.2960917949676514\n",
      "epoch:1iteration:17/training_loss 2.300276756286621\n",
      "epoch:1iteration:18/training_loss 2.300797939300537\n",
      "epoch:1iteration:19/training_loss 2.292653799057007\n",
      "epoch:1iteration:20/training_loss 2.2967474460601807\n",
      "epoch:1iteration:21/training_loss 2.294461965560913\n",
      "epoch:1iteration:22/training_loss 2.2947287559509277\n",
      "epoch:1iteration:23/training_loss 2.29282546043396\n",
      "epoch:1iteration:24/training_loss 2.291013479232788\n",
      "epoch:1iteration:25/training_loss 2.2913200855255127\n",
      "epoch:1iteration:26/training_loss 2.2875916957855225\n",
      "epoch:1iteration:27/training_loss 2.2900021076202393\n",
      "epoch:1iteration:28/training_loss 2.2905850410461426\n",
      "epoch:1iteration:29/training_loss 2.2884604930877686\n",
      "validation_accuracy 21.08\n",
      "epoch:2iteration:0/training_loss 2.2891528606414795\n",
      "epoch:2iteration:1/training_loss 2.2918879985809326\n",
      "epoch:2iteration:2/training_loss 2.287750482559204\n",
      "epoch:2iteration:3/training_loss 2.2893314361572266\n",
      "epoch:2iteration:4/training_loss 2.2880067825317383\n",
      "epoch:2iteration:5/training_loss 2.28934383392334\n",
      "epoch:2iteration:6/training_loss 2.2847602367401123\n",
      "epoch:2iteration:7/training_loss 2.287335157394409\n",
      "epoch:2iteration:8/training_loss 2.282651901245117\n",
      "epoch:2iteration:9/training_loss 2.2897138595581055\n",
      "epoch:2iteration:10/training_loss 2.2864885330200195\n",
      "epoch:2iteration:11/training_loss 2.2843875885009766\n",
      "epoch:2iteration:12/training_loss 2.282461166381836\n",
      "epoch:2iteration:13/training_loss 2.282684326171875\n",
      "epoch:2iteration:14/training_loss 2.285701274871826\n",
      "epoch:2iteration:15/training_loss 2.281987190246582\n",
      "epoch:2iteration:16/training_loss 2.2853052616119385\n",
      "epoch:2iteration:17/training_loss 2.2848610877990723\n",
      "epoch:2iteration:18/training_loss 2.2807281017303467\n",
      "epoch:2iteration:19/training_loss 2.2805209159851074\n",
      "epoch:2iteration:20/training_loss 2.2819151878356934\n",
      "epoch:2iteration:21/training_loss 2.2811052799224854\n",
      "epoch:2iteration:22/training_loss 2.282045602798462\n",
      "epoch:2iteration:23/training_loss 2.2810263633728027\n",
      "epoch:2iteration:24/training_loss 2.280290126800537\n",
      "epoch:2iteration:25/training_loss 2.278808116912842\n",
      "epoch:2iteration:26/training_loss 2.2791759967803955\n",
      "epoch:2iteration:27/training_loss 2.277682304382324\n",
      "epoch:2iteration:28/training_loss 2.279029369354248\n",
      "epoch:2iteration:29/training_loss 2.279067277908325\n",
      "validation_accuracy 17.57\n",
      "epoch:3iteration:0/training_loss 2.27685546875\n",
      "epoch:3iteration:1/training_loss 2.279270887374878\n",
      "epoch:3iteration:2/training_loss 2.277703285217285\n",
      "epoch:3iteration:3/training_loss 2.275747060775757\n",
      "epoch:3iteration:4/training_loss 2.2785329818725586\n",
      "epoch:3iteration:5/training_loss 2.276958703994751\n",
      "epoch:3iteration:6/training_loss 2.278794050216675\n",
      "epoch:3iteration:7/training_loss 2.2759573459625244\n",
      "epoch:3iteration:8/training_loss 2.2747926712036133\n",
      "epoch:3iteration:9/training_loss 2.2750637531280518\n",
      "epoch:3iteration:10/training_loss 2.27563214302063\n",
      "epoch:3iteration:11/training_loss 2.2742505073547363\n",
      "epoch:3iteration:12/training_loss 2.2772750854492188\n",
      "epoch:3iteration:13/training_loss 2.2736425399780273\n",
      "epoch:3iteration:14/training_loss 2.272463798522949\n",
      "epoch:3iteration:15/training_loss 2.2757387161254883\n",
      "epoch:3iteration:16/training_loss 2.2744193077087402\n",
      "epoch:3iteration:17/training_loss 2.273449659347534\n",
      "epoch:3iteration:18/training_loss 2.27150821685791\n",
      "epoch:3iteration:19/training_loss 2.274040460586548\n",
      "epoch:3iteration:20/training_loss 2.2739224433898926\n",
      "epoch:3iteration:21/training_loss 2.270261526107788\n",
      "epoch:3iteration:22/training_loss 2.2739996910095215\n",
      "epoch:3iteration:23/training_loss 2.2709059715270996\n",
      "epoch:3iteration:24/training_loss 2.270601272583008\n",
      "epoch:3iteration:25/training_loss 2.2724668979644775\n",
      "epoch:3iteration:26/training_loss 2.269015073776245\n",
      "epoch:3iteration:27/training_loss 2.2701690196990967\n",
      "epoch:3iteration:28/training_loss 2.2688260078430176\n",
      "epoch:3iteration:29/training_loss 2.2718136310577393\n",
      "validation_accuracy 18.32\n",
      "epoch:4iteration:0/training_loss 2.2699568271636963\n",
      "epoch:4iteration:1/training_loss 2.2696025371551514\n",
      "epoch:4iteration:2/training_loss 2.2684106826782227\n",
      "epoch:4iteration:3/training_loss 2.2715892791748047\n",
      "epoch:4iteration:4/training_loss 2.270900249481201\n",
      "epoch:4iteration:5/training_loss 2.268291711807251\n",
      "epoch:4iteration:6/training_loss 2.2695813179016113\n",
      "epoch:4iteration:7/training_loss 2.267603874206543\n",
      "epoch:4iteration:8/training_loss 2.265533685684204\n",
      "epoch:4iteration:9/training_loss 2.269118070602417\n",
      "epoch:4iteration:10/training_loss 2.2656171321868896\n",
      "epoch:4iteration:11/training_loss 2.2644708156585693\n",
      "epoch:4iteration:12/training_loss 2.2642452716827393\n",
      "epoch:4iteration:13/training_loss 2.2688262462615967\n",
      "epoch:4iteration:14/training_loss 2.2665581703186035\n",
      "epoch:4iteration:15/training_loss 2.26550030708313\n",
      "epoch:4iteration:16/training_loss 2.2668561935424805\n",
      "epoch:4iteration:17/training_loss 2.2660300731658936\n",
      "epoch:4iteration:18/training_loss 2.2642924785614014\n",
      "epoch:4iteration:19/training_loss 2.2662851810455322\n",
      "epoch:4iteration:20/training_loss 2.2662386894226074\n",
      "epoch:4iteration:21/training_loss 2.2617039680480957\n",
      "epoch:4iteration:22/training_loss 2.2638463973999023\n",
      "epoch:4iteration:23/training_loss 2.2655534744262695\n",
      "epoch:4iteration:24/training_loss 2.264730930328369\n",
      "epoch:4iteration:25/training_loss 2.262024402618408\n",
      "epoch:4iteration:26/training_loss 2.264547348022461\n",
      "epoch:4iteration:27/training_loss 2.2598612308502197\n",
      "epoch:4iteration:28/training_loss 2.260936737060547\n",
      "epoch:4iteration:29/training_loss 2.260178804397583\n",
      "validation_accuracy 20.849999999999998\n",
      "epoch:5iteration:0/training_loss 2.2622663974761963\n",
      "epoch:5iteration:1/training_loss 2.2593941688537598\n",
      "epoch:5iteration:2/training_loss 2.2620415687561035\n",
      "epoch:5iteration:3/training_loss 2.25961971282959\n"
     ]
    },
    {
     "name": "stdout",
     "output_type": "stream",
     "text": [
      "epoch:5iteration:4/training_loss 2.257704257965088\n",
      "epoch:5iteration:5/training_loss 2.2604854106903076\n",
      "epoch:5iteration:6/training_loss 2.2614121437072754\n",
      "epoch:5iteration:7/training_loss 2.262599229812622\n",
      "epoch:5iteration:8/training_loss 2.260605573654175\n",
      "epoch:5iteration:9/training_loss 2.259894371032715\n",
      "epoch:5iteration:10/training_loss 2.2567524909973145\n",
      "epoch:5iteration:11/training_loss 2.2596352100372314\n",
      "epoch:5iteration:12/training_loss 2.259639263153076\n",
      "epoch:5iteration:13/training_loss 2.260582685470581\n",
      "epoch:5iteration:14/training_loss 2.2573490142822266\n",
      "epoch:5iteration:15/training_loss 2.2564423084259033\n",
      "epoch:5iteration:16/training_loss 2.2579429149627686\n",
      "epoch:5iteration:17/training_loss 2.2588512897491455\n",
      "epoch:5iteration:18/training_loss 2.256795644760132\n",
      "epoch:5iteration:19/training_loss 2.2569661140441895\n",
      "epoch:5iteration:20/training_loss 2.2559127807617188\n",
      "epoch:5iteration:21/training_loss 2.2542197704315186\n",
      "epoch:5iteration:22/training_loss 2.2577037811279297\n",
      "epoch:5iteration:23/training_loss 2.2563695907592773\n",
      "epoch:5iteration:24/training_loss 2.2560527324676514\n",
      "epoch:5iteration:25/training_loss 2.2537834644317627\n",
      "epoch:5iteration:26/training_loss 2.2544167041778564\n",
      "epoch:5iteration:27/training_loss 2.2545483112335205\n",
      "epoch:5iteration:28/training_loss 2.2560465335845947\n",
      "epoch:5iteration:29/training_loss 2.2547988891601562\n",
      "validation_accuracy 24.169999999999998\n",
      "epoch:6iteration:0/training_loss 2.2516467571258545\n",
      "epoch:6iteration:1/training_loss 2.2565903663635254\n",
      "epoch:6iteration:2/training_loss 2.2540283203125\n",
      "epoch:6iteration:3/training_loss 2.2536680698394775\n",
      "epoch:6iteration:4/training_loss 2.2530593872070312\n",
      "epoch:6iteration:5/training_loss 2.251957654953003\n",
      "epoch:6iteration:6/training_loss 2.2557833194732666\n",
      "epoch:6iteration:7/training_loss 2.2532215118408203\n",
      "epoch:6iteration:8/training_loss 2.252531051635742\n",
      "epoch:6iteration:9/training_loss 2.2485156059265137\n",
      "epoch:6iteration:10/training_loss 2.2516672611236572\n",
      "epoch:6iteration:11/training_loss 2.2517340183258057\n",
      "epoch:6iteration:12/training_loss 2.2497096061706543\n",
      "epoch:6iteration:13/training_loss 2.2508068084716797\n",
      "epoch:6iteration:14/training_loss 2.2497761249542236\n",
      "epoch:6iteration:15/training_loss 2.2491369247436523\n",
      "epoch:6iteration:16/training_loss 2.2495644092559814\n",
      "epoch:6iteration:17/training_loss 2.245910167694092\n",
      "epoch:6iteration:18/training_loss 2.2493948936462402\n",
      "epoch:6iteration:19/training_loss 2.2477660179138184\n",
      "epoch:6iteration:20/training_loss 2.249993324279785\n",
      "epoch:6iteration:21/training_loss 2.2486932277679443\n",
      "epoch:6iteration:22/training_loss 2.2464962005615234\n",
      "epoch:6iteration:23/training_loss 2.2497787475585938\n",
      "epoch:6iteration:24/training_loss 2.246861457824707\n",
      "epoch:6iteration:25/training_loss 2.248075008392334\n",
      "epoch:6iteration:26/training_loss 2.247141122817993\n",
      "epoch:6iteration:27/training_loss 2.243345022201538\n",
      "epoch:6iteration:28/training_loss 2.247436761856079\n",
      "epoch:6iteration:29/training_loss 2.246857166290283\n",
      "validation_accuracy 27.27\n",
      "epoch:7iteration:0/training_loss 2.2484312057495117\n",
      "epoch:7iteration:1/training_loss 2.2494373321533203\n",
      "epoch:7iteration:2/training_loss 2.244830369949341\n",
      "epoch:7iteration:3/training_loss 2.246195077896118\n",
      "epoch:7iteration:4/training_loss 2.2407052516937256\n",
      "epoch:7iteration:5/training_loss 2.2444396018981934\n",
      "epoch:7iteration:6/training_loss 2.243377685546875\n",
      "epoch:7iteration:7/training_loss 2.2410616874694824\n",
      "epoch:7iteration:8/training_loss 2.243847131729126\n",
      "epoch:7iteration:9/training_loss 2.2435262203216553\n",
      "epoch:7iteration:10/training_loss 2.2447426319122314\n",
      "epoch:7iteration:11/training_loss 2.2424111366271973\n",
      "epoch:7iteration:12/training_loss 2.241821527481079\n",
      "epoch:7iteration:13/training_loss 2.241528034210205\n",
      "epoch:7iteration:14/training_loss 2.244013786315918\n",
      "epoch:7iteration:15/training_loss 2.2408413887023926\n",
      "epoch:7iteration:16/training_loss 2.2431795597076416\n",
      "epoch:7iteration:17/training_loss 2.2389333248138428\n",
      "epoch:7iteration:18/training_loss 2.241300582885742\n",
      "epoch:7iteration:19/training_loss 2.2433433532714844\n",
      "epoch:7iteration:20/training_loss 2.2392711639404297\n",
      "epoch:7iteration:21/training_loss 2.2432613372802734\n",
      "epoch:7iteration:22/training_loss 2.2418832778930664\n",
      "epoch:7iteration:23/training_loss 2.24192214012146\n",
      "epoch:7iteration:24/training_loss 2.2378427982330322\n",
      "epoch:7iteration:25/training_loss 2.2357187271118164\n",
      "epoch:7iteration:26/training_loss 2.2379350662231445\n",
      "epoch:7iteration:27/training_loss 2.2384791374206543\n",
      "epoch:7iteration:28/training_loss 2.236966371536255\n",
      "epoch:7iteration:29/training_loss 2.23675799369812\n",
      "validation_accuracy 29.73\n",
      "epoch:8iteration:0/training_loss 2.2370877265930176\n",
      "epoch:8iteration:1/training_loss 2.238142251968384\n",
      "epoch:8iteration:2/training_loss 2.2315497398376465\n",
      "epoch:8iteration:3/training_loss 2.232973098754883\n",
      "epoch:8iteration:4/training_loss 2.2353293895721436\n",
      "epoch:8iteration:5/training_loss 2.23606276512146\n",
      "epoch:8iteration:6/training_loss 2.2355966567993164\n",
      "epoch:8iteration:7/training_loss 2.233513116836548\n",
      "epoch:8iteration:8/training_loss 2.2345776557922363\n",
      "epoch:8iteration:9/training_loss 2.233520746231079\n",
      "epoch:8iteration:10/training_loss 2.2354202270507812\n",
      "epoch:8iteration:11/training_loss 2.232696056365967\n",
      "epoch:8iteration:12/training_loss 2.232734203338623\n",
      "epoch:8iteration:13/training_loss 2.2359237670898438\n",
      "epoch:8iteration:14/training_loss 2.232429027557373\n",
      "epoch:8iteration:15/training_loss 2.235823154449463\n",
      "epoch:8iteration:16/training_loss 2.2313225269317627\n",
      "epoch:8iteration:17/training_loss 2.231133222579956\n",
      "epoch:8iteration:18/training_loss 2.236295700073242\n",
      "epoch:8iteration:19/training_loss 2.234987258911133\n",
      "epoch:8iteration:20/training_loss 2.2327933311462402\n",
      "epoch:8iteration:21/training_loss 2.233786106109619\n",
      "epoch:8iteration:22/training_loss 2.2310631275177\n",
      "epoch:8iteration:23/training_loss 2.2275443077087402\n",
      "epoch:8iteration:24/training_loss 2.235065221786499\n",
      "epoch:8iteration:25/training_loss 2.23599910736084\n",
      "epoch:8iteration:26/training_loss 2.231934070587158\n",
      "epoch:8iteration:27/training_loss 2.229572057723999\n",
      "epoch:8iteration:28/training_loss 2.2328014373779297\n",
      "epoch:8iteration:29/training_loss 2.231325626373291\n",
      "validation_accuracy 33.589999999999996\n",
      "epoch:9iteration:0/training_loss 2.2328524589538574\n",
      "epoch:9iteration:1/training_loss 2.2289109230041504\n",
      "epoch:9iteration:2/training_loss 2.229912042617798\n",
      "epoch:9iteration:3/training_loss 2.2270114421844482\n",
      "epoch:9iteration:4/training_loss 2.2281527519226074\n",
      "epoch:9iteration:5/training_loss 2.226947546005249\n",
      "epoch:9iteration:6/training_loss 2.2264561653137207\n",
      "epoch:9iteration:7/training_loss 2.227247953414917\n",
      "epoch:9iteration:8/training_loss 2.228595495223999\n",
      "epoch:9iteration:9/training_loss 2.2258105278015137\n",
      "epoch:9iteration:10/training_loss 2.226259708404541\n",
      "epoch:9iteration:11/training_loss 2.224882125854492\n",
      "epoch:9iteration:12/training_loss 2.2234888076782227\n",
      "epoch:9iteration:13/training_loss 2.226381778717041\n",
      "epoch:9iteration:14/training_loss 2.2281103134155273\n",
      "epoch:9iteration:15/training_loss 2.2268245220184326\n",
      "epoch:9iteration:16/training_loss 2.2268564701080322\n",
      "epoch:9iteration:17/training_loss 2.223153591156006\n",
      "epoch:9iteration:18/training_loss 2.227766275405884\n",
      "epoch:9iteration:19/training_loss 2.221219301223755\n",
      "epoch:9iteration:20/training_loss 2.22456693649292\n",
      "epoch:9iteration:21/training_loss 2.226313591003418\n",
      "epoch:9iteration:22/training_loss 2.2203149795532227\n",
      "epoch:9iteration:23/training_loss 2.2233152389526367\n",
      "epoch:9iteration:24/training_loss 2.2145845890045166\n",
      "epoch:9iteration:25/training_loss 2.2239842414855957\n",
      "epoch:9iteration:26/training_loss 2.2217719554901123\n",
      "epoch:9iteration:27/training_loss 2.222480058670044\n",
      "epoch:9iteration:28/training_loss 2.221712350845337\n",
      "epoch:9iteration:29/training_loss 2.218592643737793\n",
      "validation_accuracy 35.699999999999996\n"
     ]
    },
    {
     "data": {
      "image/png": "[encoded data removed]",
      "text/plain": [
       "<Figure size 432x288 with 2 Axes>"
      ]
     },
     "metadata": {
      "needs_background": "light"
     },
     "output_type": "display_data"
    }
   ],
   "source": [
    "# Practice: Use nn.Sequential to build the same model. Use plot_accuracy_loss to print out the accuarcy and loss\n",
    "\n",
    "# Type your code here\n",
    "\n",
    "input_dim = 28 * 28\n",
    "hidden_dim = 100\n",
    "output_dim = 10\n",
    "\n",
    "model = torch.nn.Sequential(\n",
    "    torch.nn.Linear(input_dim, hidden_dim),\n",
    "    torch.nn.Sigmoid(),\n",
    "    torch.nn.Linear(hidden_dim, output_dim),\n",
    ")\n",
    "\n",
    "learning_rate = 0.01\n",
    "optimizer = torch.optim.SGD(model.parameters(), lr = learning_rate)\n",
    "training_results = train(model, criterion, train_loader, validation_loader, optimizer, epochs = 10)\n",
    "plot_accuracy_loss(training_results)"
   ]
  },
  {
   "cell_type": "markdown",
   "metadata": {},
   "source": [
    "Double-click <b>here</b> for the solution.\n",
    "\n",
    "<!-- \n",
    "input_dim = 28 * 28\n",
    "hidden_dim = 100\n",
    "output_dim = 10\n",
    "\n",
    "model = torch.nn.Sequential(\n",
    "    torch.nn.Linear(input_dim, hidden_dim),\n",
    "    torch.nn.Sigmoid(),\n",
    "    torch.nn.Linear(hidden_dim, output_dim),\n",
    ")\n",
    "learning_rate = 0.01\n",
    "optimizer = torch.optim.SGD(model.parameters(), lr = learning_rate)\n",
    "training_results = train(model, criterion, train_loader, validation_loader, optimizer, epochs = 10)\n",
    "plot_accuracy_loss(training_results)\n",
    "-->"
   ]
  },
  {
   "cell_type": "markdown",
   "metadata": {},
   "source": [
    "<!--Empty Space for separating topics-->"
   ]
  },
  {
   "cell_type": "markdown",
   "metadata": {},
   "source": [
    "<a href=\"http://cocl.us/pytorch_link_bottom\">\n",
    "    <img src=\"https://s3-api.us-geo.objectstorage.softlayer.net/cf-courses-data/CognitiveClass/DL0110EN/notebook_images%20/notebook_bottom%20.png\" width=\"750\" alt=\"PyTorch Bottom\" />\n",
    "</a>"
   ]
  },
  {
   "cell_type": "markdown",
   "metadata": {},
   "source": [
    "<h2>About the Authors:</h2> \n",
    "\n",
    "<a href=\"https://www.linkedin.com/in/joseph-s-50398b136/\">Joseph Santarcangelo</a> has a PhD in Electrical Engineering, his research focused on using machine learning, signal processing, and computer vision to determine how videos impact human cognition. Joseph has been working for IBM since he completed his PhD. "
   ]
  },
  {
   "cell_type": "markdown",
   "metadata": {},
   "source": [
    "Other contributors: <a href=\"https://www.linkedin.com/in/michelleccarey/\">Michelle Carey</a>, <a href=\"www.linkedin.com/in/jiahui-mavis-zhou-a4537814a\">Mavis Zhou</a>"
   ]
  },
  {
   "cell_type": "markdown",
   "metadata": {},
   "source": [
    "<hr>"
   ]
  },
  {
   "cell_type": "markdown",
   "metadata": {},
   "source": [
    "Copyright &copy; 2018 <a href=\"cognitiveclass.ai?utm_source=bducopyrightlink&utm_medium=dswb&utm_campaign=bdu\">cognitiveclass.ai</a>. This notebook and its source code are released under the terms of the <a href=\"https://bigdatauniversity.com/mit-license/\">MIT License</a>."
   ]
  }
 ],
 "metadata": {
  "kernelspec": {
   "display_name": "Python 3",
   "language": "python",
   "name": "python3"
  },
  "language_info": {
   "codemirror_mode": {
    "name": "ipython",
    "version": 3
   },
   "file_extension": ".py",
   "mimetype": "text/x-python",
   "name": "python",
   "nbconvert_exporter": "python",
   "pygments_lexer": "ipython3",
   "version": "3.7.4"
  }
 },
 "nbformat": 4,
 "nbformat_minor": 2
}
