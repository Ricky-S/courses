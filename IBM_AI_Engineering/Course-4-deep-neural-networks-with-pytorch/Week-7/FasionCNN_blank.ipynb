{
 "cells": [
  {
   "cell_type": "markdown",
   "metadata": {},
   "source": [
    "<a href=\"https://cocl.us/DL0320EN_TOP_IMAGE\">\n",
    "    <img src=\"https://s3-api.us-geo.objectstorage.softlayer.net/cf-courses-data/CognitiveClass/DL0320EN/Assets/Images/Top.png\" width=\"750\" alt=\"IBM 10TB Storage\" />\n",
    "</a>"
   ]
  },
  {
   "cell_type": "markdown",
   "metadata": {},
   "source": [
    "<h1>Fashion-MNIST Project </h1>"
   ]
  },
  {
   "cell_type": "markdown",
   "metadata": {},
   "source": [
    "<h2>Table of Contents</h2>"
   ]
  },
  {
   "cell_type": "markdown",
   "metadata": {},
   "source": [
    "<p>In this project, you will classify  Fashion-MNIST dataset using convolutional neural networks.</p>\n",
    "<ul>\n",
    "  \n",
    "<ul>\n",
    "<li><a href=\"#Preparation\">Preparation</a></li>\n",
    "<li><a href=\"#Q1\">Questions 1: Create a Dataset Class</li>\n",
    "<li><a href=\"#Train\">Define Softmax, Criterion function, Optimizer and Train the Model</a></li>\n",
    "\n",
    "</ul>\n",
    " \n",
    "\n",
    "</ul>\n",
    "\n",
    "<p>Estimated Time Needed: <b>30 min</b></p>\n",
    "<hr>"
   ]
  },
  {
   "cell_type": "markdown",
   "metadata": {},
   "source": [
    "<h2 id=\"Preparation\" >Preparation</h2>"
   ]
  },
  {
   "cell_type": "markdown",
   "metadata": {},
   "source": [
    "Download the datasets you needed for this lab."
   ]
  },
  {
   "cell_type": "markdown",
   "metadata": {},
   "source": [
    "The following are the PyTorch modules you are going to need"
   ]
  },
  {
   "cell_type": "code",
   "execution_count": null,
   "metadata": {},
   "outputs": [],
   "source": [
    "!pip install torch\n",
    "!pip install torchvision"
   ]
  },
  {
   "cell_type": "code",
   "execution_count": 22,
   "metadata": {},
   "outputs": [
    {
     "data": {
      "text/plain": [
       "<torch._C.Generator at 0x1b125f31170>"
      ]
     },
     "execution_count": 22,
     "metadata": {},
     "output_type": "execute_result"
    }
   ],
   "source": [
    "# PyTorch Modules you need for this lab\n",
    "\n",
    "from torch.utils.data import Dataset, DataLoader\n",
    "\n",
    "from torchvision import transforms\n",
    "import torch \n",
    "import torch.nn as nn\n",
    "import torchvision.transforms as transforms\n",
    "import torchvision.datasets as dsets\n",
    "torch.manual_seed(0)"
   ]
  },
  {
   "cell_type": "markdown",
   "metadata": {},
   "source": [
    "Import Non-PyTorch Modules "
   ]
  },
  {
   "cell_type": "code",
   "execution_count": 17,
   "metadata": {},
   "outputs": [],
   "source": [
    "# Other non-PyTorch Modules\n",
    "\n",
    "from matplotlib.pyplot import imshow\n",
    "import matplotlib.pylab as plt\n",
    "\n",
    "from PIL import Image"
   ]
  },
  {
   "cell_type": "code",
   "execution_count": 18,
   "metadata": {},
   "outputs": [],
   "source": [
    "def show_data(data_sample):\n",
    "    plt.imshow(data_sample[0].numpy().reshape(IMAGE_SIZE, IMAGE_SIZE), cmap='gray')\n",
    "    plt.title('y = '+ str(data_sample[1]))"
   ]
  },
  {
   "cell_type": "markdown",
   "metadata": {},
   "source": [
    "<hr>"
   ]
  },
  {
   "cell_type": "markdown",
   "metadata": {},
   "source": [
    "<hr>"
   ]
  },
  {
   "cell_type": "markdown",
   "metadata": {},
   "source": [
    "<h2 id=\"Questions 1\">Questions 1: Create a Dataset Class</h2>"
   ]
  },
  {
   "cell_type": "markdown",
   "metadata": {},
   "source": [
    "In this section, you will load a Dataset object, but first you must transform the dataset. Use the <code>Compose</code> function to perform the following transforms:. \n",
    "<ol>\n",
    "    <li>use the transforms object to<code> Resize </code> to resize the image.</li>\n",
    "    <li>use the transforms object to<code> ToTensor </code> to convert the image to a tensor.</li>\n",
    "</ol>\n",
    "\n",
    "You will then take a screen shot of your validation data."
   ]
  },
  {
   "cell_type": "markdown",
   "metadata": {},
   "source": [
    "Use the compose function ot compse the "
   ]
  },
  {
   "cell_type": "code",
   "execution_count": 19,
   "metadata": {},
   "outputs": [],
   "source": [
    "#Hint:\n",
    "\n",
    "IMAGE_SIZE = 16\n",
    "\n",
    "transforms.Resize((IMAGE_SIZE, IMAGE_SIZE)),\n",
    "transforms.ToTensor()#\n",
    "composed = transforms.Compose([transforms.Resize((IMAGE_SIZE, IMAGE_SIZE)), transforms.ToTensor()])"
   ]
  },
  {
   "cell_type": "markdown",
   "metadata": {},
   "source": [
    "<hr>"
   ]
  },
  {
   "cell_type": "markdown",
   "metadata": {},
   "source": [
    "Create two dataset objects for the Fashion MNIST  dataset. One for training data called <code> dataset_train </code> and one for validation data <code>dataset_val</code>. You will be asked to take a screenshot of several samples."
   ]
  },
  {
   "cell_type": "markdown",
   "metadata": {},
   "source": [
    "<b>Hint:</b>\n",
    "<code>dsets.FashionMNIST(root= '.fashion/data', train=???, transform=composed,  download=True)</code>"
   ]
  },
  {
   "cell_type": "code",
   "execution_count": 25,
   "metadata": {},
   "outputs": [
    {
     "name": "stdout",
     "output_type": "stream",
     "text": [
      "Downloading http://fashion-mnist.s3-website.eu-central-1.amazonaws.com/train-images-idx3-ubyte.gz to ./data\\FashionMNIST\\raw\\train-images-idx3-ubyte.gz\n"
     ]
    },
    {
     "name": "stderr",
     "output_type": "stream",
     "text": [
      "\n",
      "0it [00:00, ?it/s]\n",
      "  0%|          | 0/26421880 [00:00<?, ?it/s]\n",
      "  0%|          | 81920/26421880 [00:01<00:43, 599751.06it/s]\n",
      "  1%|          | 229376/26421880 [00:01<00:46, 561764.39it/s]\n",
      "  2%|▏         | 401408/26421880 [00:01<00:37, 698649.96it/s]\n",
      "  2%|▏         | 557056/26421880 [00:01<00:31, 825415.41it/s]\n",
      "  3%|▎         | 745472/26421880 [00:01<00:26, 981894.48it/s]\n",
      "  4%|▎         | 942080/26421880 [00:01<00:22, 1145234.72it/s]\n",
      "  4%|▍         | 1081344/26421880 [00:01<00:25, 982233.71it/s]\n",
      "  5%|▍         | 1277952/26421880 [00:02<00:21, 1152134.40it/s]\n",
      "  6%|▌         | 1556480/26421880 [00:02<00:18, 1375980.75it/s]\n",
      "  7%|▋         | 1925120/26421880 [00:02<00:14, 1692559.38it/s]\n",
      "  9%|▊         | 2277376/26421880 [00:02<00:12, 1981848.57it/s]\n",
      " 10%|█         | 2695168/26421880 [00:02<00:10, 2349576.79it/s]\n",
      " 12%|█▏        | 3170304/26421880 [00:02<00:08, 2751705.62it/s]\n",
      " 14%|█▍        | 3670016/26421880 [00:02<00:07, 3174426.90it/s]\n",
      " 16%|█▌        | 4284416/26421880 [00:02<00:05, 3700092.74it/s]\n",
      " 19%|█▊        | 4947968/26421880 [00:02<00:05, 4186574.57it/s]\n",
      " 21%|██▏       | 5619712/26421880 [00:02<00:04, 4713129.34it/s]\n",
      " 24%|██▍       | 6356992/26421880 [00:03<00:03, 5254080.70it/s]\n",
      " 27%|██▋       | 7086080/26421880 [00:03<00:03, 5730615.34it/s]\n",
      " 29%|██▉       | 7725056/26421880 [00:03<00:03, 5881381.63it/s]\n",
      " 32%|███▏      | 8364032/26421880 [00:03<00:04, 3736261.68it/s]\n",
      " 34%|███▎      | 8871936/26421880 [00:03<00:04, 3946944.67it/s]\n",
      " 35%|███▌      | 9363456/26421880 [00:03<00:04, 3856982.31it/s]\n",
      " 37%|███▋      | 9822208/26421880 [00:03<00:04, 3750484.19it/s]\n",
      " 39%|███▉      | 10412032/26421880 [00:04<00:03, 4189993.66it/s]\n",
      " 42%|████▏     | 11018240/26421880 [00:04<00:03, 4609063.83it/s]\n",
      " 45%|████▍     | 11763712/26421880 [00:04<00:03, 4568184.95it/s]\n",
      " 46%|████▋     | 12255232/26421880 [00:04<00:06, 2116292.70it/s]\n",
      " 49%|████▊     | 12877824/26421880 [00:05<00:05, 2567796.71it/s]\n",
      " 50%|█████     | 13328384/26421880 [00:05<00:04, 2944132.16it/s]\n",
      " 53%|█████▎    | 14008320/26421880 [00:05<00:03, 3543525.54it/s]\n",
      " 56%|█████▌    | 14704640/26421880 [00:05<00:02, 4142991.45it/s]\n",
      " 58%|█████▊    | 15261696/26421880 [00:05<00:04, 2432768.08it/s]\n",
      " 59%|█████▉    | 15687680/26421880 [00:06<00:05, 1876250.34it/s]\n",
      " 61%|██████▏   | 16211968/26421880 [00:06<00:04, 2302921.91it/s]\n",
      " 63%|██████▎   | 16596992/26421880 [00:06<00:03, 2554374.24it/s]\n",
      " 65%|██████▌   | 17235968/26421880 [00:06<00:02, 3107434.80it/s]\n",
      " 67%|██████▋   | 17711104/26421880 [00:06<00:02, 3448295.74it/s]\n",
      " 69%|██████▉   | 18169856/26421880 [00:06<00:03, 2634427.40it/s]\n",
      " 71%|███████   | 18685952/26421880 [00:07<00:03, 2441938.79it/s]\n",
      " 73%|███████▎  | 19324928/26421880 [00:07<00:02, 2994464.58it/s]\n",
      " 76%|███████▌  | 20111360/26421880 [00:07<00:01, 3639062.36it/s]\n",
      " 79%|███████▉  | 20848640/26421880 [00:07<00:01, 4241218.06it/s]\n",
      " 81%|████████▏ | 21471232/26421880 [00:07<00:01, 4669313.73it/s]\n",
      " 83%|████████▎ | 22052864/26421880 [00:07<00:00, 4643409.70it/s]\n",
      " 86%|████████▌ | 22601728/26421880 [00:07<00:00, 4279845.58it/s]\n",
      " 87%|████████▋ | 23093248/26421880 [00:07<00:00, 4338054.40it/s]\n",
      " 89%|████████▉ | 23576576/26421880 [00:07<00:00, 4167019.07it/s]\n",
      " 91%|█████████ | 24027136/26421880 [00:08<00:00, 2889590.46it/s]\n",
      " 94%|█████████▍| 24780800/26421880 [00:08<00:00, 3526478.25it/s]\n",
      " 96%|█████████▌| 25255936/26421880 [00:08<00:00, 3706723.71it/s]\n",
      " 97%|█████████▋| 25714688/26421880 [00:08<00:00, 3863259.43it/s]\n",
      " 99%|█████████▉| 26165248/26421880 [00:08<00:00, 3812931.37it/s]"
     ]
    },
    {
     "name": "stdout",
     "output_type": "stream",
     "text": [
      "Extracting ./data\\FashionMNIST\\raw\\train-images-idx3-ubyte.gz to ./data\\FashionMNIST\\raw\n",
      "Downloading http://fashion-mnist.s3-website.eu-central-1.amazonaws.com/train-labels-idx1-ubyte.gz to ./data\\FashionMNIST\\raw\\train-labels-idx1-ubyte.gz\n"
     ]
    },
    {
     "name": "stderr",
     "output_type": "stream",
     "text": [
      "\n",
      "\n",
      "0it [00:00, ?it/s]\n",
      "\n",
      "  0%|          | 0/29515 [00:00<?, ?it/s]\n",
      "\n",
      "32768it [00:01, 28394.04it/s]                           \n"
     ]
    },
    {
     "name": "stdout",
     "output_type": "stream",
     "text": [
      "Extracting ./data\\FashionMNIST\\raw\\train-labels-idx1-ubyte.gz to ./data\\FashionMNIST\\raw\n",
      "Downloading http://fashion-mnist.s3-website.eu-central-1.amazonaws.com/t10k-images-idx3-ubyte.gz to ./data\\FashionMNIST\\raw\\t10k-images-idx3-ubyte.gz\n"
     ]
    },
    {
     "name": "stderr",
     "output_type": "stream",
     "text": [
      "\n",
      "\n",
      "0it [00:00, ?it/s]\n",
      "\n",
      "  0%|          | 0/4422102 [00:00<?, ?it/s]\n",
      "\n",
      "  0%|          | 16384/4422102 [00:00<00:43, 101803.62it/s]\n",
      "\n",
      "  1%|          | 49152/4422102 [00:00<00:36, 119854.47it/s]\n",
      "\n",
      "  1%|▏         | 65536/4422102 [00:01<00:40, 107380.77it/s]\n",
      "\n",
      "  2%|▏         | 106496/4422102 [00:01<00:31, 136157.60it/s]\n",
      "\n",
      "  4%|▍         | 188416/4422102 [00:01<00:23, 179330.21it/s]\n",
      "\n",
      "  5%|▌         | 221184/4422102 [00:01<00:23, 180508.47it/s]\n",
      "\n",
      "  8%|▊         | 335872/4422102 [00:01<00:16, 241358.74it/s]\n",
      "\n",
      " 10%|█         | 450560/4422102 [00:01<00:12, 308700.04it/s]\n",
      "\n",
      " 15%|█▍        | 647168/4422102 [00:01<00:09, 412834.70it/s]\n",
      "\n",
      " 19%|█▉        | 843776/4422102 [00:02<00:06, 533908.34it/s]\n",
      "\n",
      " 25%|██▌       | 1105920/4422102 [00:02<00:04, 701019.30it/s]\n",
      "\n",
      " 31%|███       | 1351680/4422102 [00:02<00:03, 884766.98it/s]\n",
      "\n",
      " 36%|███▋      | 1613824/4422102 [00:02<00:02, 1103887.37it/s]\n",
      "\n",
      " 43%|████▎     | 1908736/4422102 [00:02<00:01, 1351973.51it/s]\n",
      "\n",
      " 52%|█████▏    | 2310144/4422102 [00:02<00:01, 1681385.15it/s]\n",
      "\n",
      " 61%|██████    | 2695168/4422102 [00:02<00:00, 2010227.15it/s]\n",
      "\n",
      " 71%|███████   | 3137536/4422102 [00:02<00:00, 2400506.48it/s]\n",
      "\n",
      " 83%|████████▎ | 3653632/4422102 [00:02<00:00, 2828832.40it/s]\n",
      "\n",
      " 95%|█████████▍| 4194304/4422102 [00:02<00:00, 3287182.10it/s]"
     ]
    },
    {
     "name": "stdout",
     "output_type": "stream",
     "text": [
      "Extracting ./data\\FashionMNIST\\raw\\t10k-images-idx3-ubyte.gz to ./data\\FashionMNIST\\raw\n",
      "Downloading http://fashion-mnist.s3-website.eu-central-1.amazonaws.com/t10k-labels-idx1-ubyte.gz to ./data\\FashionMNIST\\raw\\t10k-labels-idx1-ubyte.gz\n"
     ]
    },
    {
     "name": "stderr",
     "output_type": "stream",
     "text": [
      "\n",
      "\n",
      "\n",
      "0it [00:00, ?it/s]\n",
      "\n",
      "\n",
      "8192it [00:07, 1097.18it/s]             \n"
     ]
    },
    {
     "name": "stdout",
     "output_type": "stream",
     "text": [
      "Extracting ./data\\FashionMNIST\\raw\\t10k-labels-idx1-ubyte.gz to ./data\\FashionMNIST\\raw\n",
      "Processing...\n",
      "Done!\n"
     ]
    },
    {
     "name": "stderr",
     "output_type": "stream",
     "text": [
      "\n",
      "26427392it [00:22, 3812931.37it/s]                              \n",
      "\n",
      "4423680it [00:21, 3287182.10it/s]                             "
     ]
    }
   ],
   "source": [
    "dataset_train = dsets.FashionMNIST(root='./data', train=True, download=True, transform=composed)\n",
    "dataset_val = dsets.FashionMNIST(root='./data', train=False, download=True, transform=composed)"
   ]
  },
  {
   "cell_type": "code",
   "execution_count": 26,
   "metadata": {},
   "outputs": [
    {
     "data": {
      "image/png": "[encoded data removed]",
      "text/plain": [
       "<Figure size 432x288 with 1 Axes>"
      ]
     },
     "metadata": {
      "needs_background": "light"
     },
     "output_type": "display_data"
    },
    {
     "data": {
      "image/png": "[encoded data removed]",
      "text/plain": [
       "<Figure size 432x288 with 1 Axes>"
      ]
     },
     "metadata": {
      "needs_background": "light"
     },
     "output_type": "display_data"
    },
    {
     "data": {
      "image/png": "[encoded data removed]",
      "text/plain": [
       "<Figure size 432x288 with 1 Axes>"
      ]
     },
     "metadata": {
      "needs_background": "light"
     },
     "output_type": "display_data"
    }
   ],
   "source": [
    "for n,data_sample in enumerate(dataset_val):\n",
    "\n",
    "    show_data(data_sample)\n",
    "    plt.show()\n",
    "    if n==2:\n",
    "        break "
   ]
  },
  {
   "cell_type": "markdown",
   "metadata": {},
   "source": [
    "<h2 id=\"Q2\">Questions 2</h2>\n",
    "Create a Convolutional Neural Network class using ONE of the following constructors.  Train the network using the provided code then provide a screenshot of your training cost and accuracy with your validation data."
   ]
  },
  {
   "cell_type": "markdown",
   "metadata": {},
   "source": [
    "Constructor  using Batch Norm "
   ]
  },
  {
   "cell_type": "code",
   "execution_count": 27,
   "metadata": {},
   "outputs": [],
   "source": [
    "class CNN_batch(nn.Module):\n",
    "    \n",
    "    # Contructor\n",
    "    def __init__(self, out_1=16, out_2=32,number_of_classes=10):\n",
    "        super(CNN_batch, self).__init__()\n",
    "        self.cnn1 = nn.Conv2d(in_channels=1, out_channels=out_1, kernel_size=5, padding=2)\n",
    "        self.conv1_bn = nn.BatchNorm2d(out_1)\n",
    "\n",
    "        self.maxpool1=nn.MaxPool2d(kernel_size=2)\n",
    "        \n",
    "        self.cnn2 = nn.Conv2d(in_channels=out_1, out_channels=out_2, kernel_size=5, stride=1, padding=2)\n",
    "        self.conv2_bn = nn.BatchNorm2d(out_2)\n",
    "\n",
    "        self.maxpool2=nn.MaxPool2d(kernel_size=2)\n",
    "        self.fc1 = nn.Linear(out_2 * 4 * 4, number_of_classes)\n",
    "        self.bn_fc1 = nn.BatchNorm1d(10)\n",
    "    \n",
    "    # Prediction\n",
    "    def forward(self, x):\n",
    "        x = self.cnn1(x)\n",
    "        x=self.conv1_bn(x)\n",
    "        x = torch.relu(x)\n",
    "        x = self.maxpool1(x)\n",
    "        x = self.cnn2(x)\n",
    "        x=self.conv2_bn(x)\n",
    "        x = torch.relu(x)\n",
    "        x = self.maxpool2(x)\n",
    "        x = x.view(x.size(0), -1)\n",
    "        x = self.fc1(x)\n",
    "        x=self.bn_fc1(x)\n",
    "        return x"
   ]
  },
  {
   "cell_type": "markdown",
   "metadata": {},
   "source": [
    "Constructor  for regular Convolutional Neural Network"
   ]
  },
  {
   "cell_type": "code",
   "execution_count": 28,
   "metadata": {},
   "outputs": [],
   "source": [
    "class CNN(nn.Module):\n",
    "    \n",
    "    # Contructor\n",
    "    def __init__(self, out_1=16, out_2=32,number_of_classes=10):\n",
    "        super(CNN, self).__init__()\n",
    "        self.cnn1 = nn.Conv2d(in_channels=1, out_channels=out_1, kernel_size=5, padding=2)\n",
    "        self.maxpool1=nn.MaxPool2d(kernel_size=2)\n",
    "\n",
    "        self.cnn2 = nn.Conv2d(in_channels=out_1, out_channels=out_2, kernel_size=5, stride=1, padding=2)\n",
    "        self.maxpool2=nn.MaxPool2d(kernel_size=2)\n",
    "        self.fc1 = nn.Linear(out_2 * 4 * 4, number_of_classes)\n",
    "    \n",
    "    # Prediction\n",
    "    def forward(self, x):\n",
    "        x = self.cnn1(x)\n",
    "        x = torch.relu(x)\n",
    "        x = self.maxpool1(x)\n",
    "        x = self.cnn2(x)\n",
    "        x = torch.relu(x)\n",
    "        x = self.maxpool2(x)\n",
    "        x = x.view(x.size(0), -1)\n",
    "        x = self.fc1(x)\n",
    "        return x"
   ]
  },
  {
   "cell_type": "markdown",
   "metadata": {},
   "source": [
    "train loader  and validation loader "
   ]
  },
  {
   "cell_type": "code",
   "execution_count": 29,
   "metadata": {},
   "outputs": [],
   "source": [
    "train_loader = torch.utils.data.DataLoader(dataset=dataset_train, batch_size=100 )\n",
    "test_loader = torch.utils.data.DataLoader(dataset=dataset_val, batch_size=100 )"
   ]
  },
  {
   "cell_type": "markdown",
   "metadata": {},
   "source": [
    "Convolutional Neural Network object "
   ]
  },
  {
   "cell_type": "code",
   "execution_count": 30,
   "metadata": {},
   "outputs": [],
   "source": [
    "#model = CNN(out_1=16, out_2=32,number_of_classes=10)\n",
    "#model =CNN_batch(out_1=16, out_2=32,number_of_classes=10)"
   ]
  },
  {
   "cell_type": "markdown",
   "metadata": {},
   "source": [
    "Create the objects for the criterion and the optimizer named <code>criterion</code> and <code>optimizer</code>. Make the optimizer use SGD with a learning rate of 0.1 and the optimizer use Cross Entropy Loss"
   ]
  },
  {
   "cell_type": "code",
   "execution_count": 31,
   "metadata": {},
   "outputs": [],
   "source": [
    "model = CNN(out_1=16, out_2=32)\n",
    "criterion = nn.CrossEntropyLoss()\n",
    "optimizer = torch.optim.SGD(model.parameters(), lr = 0.1)"
   ]
  },
  {
   "cell_type": "markdown",
   "metadata": {},
   "source": [
    "Code used to train the model "
   ]
  },
  {
   "cell_type": "code",
   "execution_count": 32,
   "metadata": {},
   "outputs": [
    {
     "name": "stdout",
     "output_type": "stream",
     "text": [
      "epoch:0/5  cost: 471.635557115078  acc: 0.7996\n",
      "epoch:1/5  cost: 288.5958085656166  acc: 0.8359\n",
      "epoch:2/5  cost: 249.66032008826733  acc: 0.849\n",
      "epoch:3/5  cost: 229.56353051960468  acc: 0.8575\n",
      "epoch:4/5  cost: 216.5543359965086  acc: 0.8637\n"
     ]
    }
   ],
   "source": [
    "import time\n",
    "start_time = time.time()\n",
    "\n",
    "cost_list=[]\n",
    "accuracy_list=[]\n",
    "N_test=len(dataset_val)\n",
    "n_epochs=5\n",
    "for epoch in range(n_epochs):\n",
    "    cost=0\n",
    "    model.train()\n",
    "    for x, y in train_loader:\n",
    "        optimizer.zero_grad()\n",
    "        z = model(x)\n",
    "        loss = criterion(z, y)\n",
    "        loss.backward()\n",
    "        optimizer.step()\n",
    "        cost+=loss.item()\n",
    "    correct=0\n",
    "    #perform a prediction on the validation  data \n",
    "    model.eval()\n",
    "    for x_test, y_test in test_loader:\n",
    "        z = model(x_test)\n",
    "        _, yhat = torch.max(z.data, 1)\n",
    "        correct += (yhat == y_test).sum().item()\n",
    "    accuracy = correct / N_test\n",
    "    accuracy_list.append(accuracy)\n",
    "    cost_list.append(cost)\n",
    "    print('epoch:'+str(epoch)+'/'+str(n_epochs)+'  cost: '+str(cost)+'  acc: '+str(accuracy))\n",
    "    "
   ]
  },
  {
   "cell_type": "markdown",
   "metadata": {},
   "source": [
    "You will use the following to plot the Cost and accuracy for each epoch for the training and testing data, respectively. "
   ]
  },
  {
   "cell_type": "code",
   "execution_count": 33,
   "metadata": {},
   "outputs": [
    {
     "data": {
      "image/png": "[encoded data removed]",
      "text/plain": [
       "<Figure size 432x288 with 2 Axes>"
      ]
     },
     "metadata": {
      "needs_background": "light"
     },
     "output_type": "display_data"
    }
   ],
   "source": [
    "fig, ax1 = plt.subplots()\n",
    "color = 'tab:red'\n",
    "ax1.plot(cost_list, color=color)\n",
    "ax1.set_xlabel('epoch', color=color)\n",
    "ax1.set_ylabel('Cost', color=color)\n",
    "ax1.tick_params(axis='y', color=color)\n",
    "    \n",
    "ax2 = ax1.twinx()  \n",
    "color = 'tab:blue'\n",
    "ax2.set_ylabel('accuracy', color=color) \n",
    "ax2.set_xlabel('epoch', color=color)\n",
    "ax2.plot( accuracy_list, color=color)\n",
    "ax2.tick_params(axis='y', color=color)\n",
    "fig.tight_layout()"
   ]
  },
  {
   "cell_type": "markdown",
   "metadata": {},
   "source": [
    "dataset: https://github.com/zalandoresearch/fashion-mnist"
   ]
  },
  {
   "cell_type": "markdown",
   "metadata": {},
   "source": [
    "<h2>About the Authors:</h2> \n",
    "\n",
    "<a href=\"https://www.linkedin.com/in/joseph-s-50398b136/\">Joseph Santarcangelo</a> has a PhD in Electrical Engineering, his research focused on using machine learning, signal processing, and computer vision to determine how videos impact human cognition. Joseph has been working for IBM since he completed his PhD."
   ]
  },
  {
   "cell_type": "markdown",
   "metadata": {},
   "source": [
    "Other contributors: <a href=\"https://www.linkedin.com/in/michelleccarey/\">Michelle Carey</a>, <a href=\"www.linkedin.com/in/jiahui-mavis-zhou-a4537814a\">Mavis Zhou</a> "
   ]
  },
  {
   "cell_type": "markdown",
   "metadata": {},
   "source": [
    "<hr>"
   ]
  },
  {
   "cell_type": "markdown",
   "metadata": {},
   "source": [
    "Copyright &copy; 2018 <a href=\"cognitiveclass.ai?utm_source=bducopyrightlink&utm_medium=dswb&utm_campaign=bdu\">cognitiveclass.ai</a>. This notebook and its source code are released under the terms of the <a href=\"https://bigdatauniversity.com/mit-license/\">MIT License</a>."
   ]
  }
 ],
 "metadata": {
  "kernelspec": {
   "display_name": "Python 3",
   "language": "python",
   "name": "python3"
  },
  "language_info": {
   "codemirror_mode": {
    "name": "ipython",
    "version": 3
   },
   "file_extension": ".py",
   "mimetype": "text/x-python",
   "name": "python",
   "nbconvert_exporter": "python",
   "pygments_lexer": "ipython3",
   "version": "3.7.4"
  }
 },
 "nbformat": 4,
 "nbformat_minor": 4
}
